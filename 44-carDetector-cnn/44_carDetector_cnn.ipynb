{
  "nbformat": 4,
  "nbformat_minor": 0,
  "metadata": {
    "colab": {
      "name": "44-carDetector-cnn.ipynb",
      "provenance": [],
      "collapsed_sections": [],
      "mount_file_id": "1jXG0ZSKWzGPlGUgt5g8Vp8IAU6DOuw8k",
      "authorship_tag": "ABX9TyOt9JypZDfGHUlxU1BJXaUo",
      "include_colab_link": true
    },
    "kernelspec": {
      "name": "python3",
      "display_name": "Python 3"
    },
    "language_info": {
      "name": "python"
    },
    "accelerator": "GPU"
  },
  "cells": [
    {
      "cell_type": "markdown",
      "metadata": {
        "id": "view-in-github",
        "colab_type": "text"
      },
      "source": [
        "<a href=\"https://colab.research.google.com/github/Ebadi-Fereshteh/Deep-Learning/blob/main/44-carDetector-cnn/44_carDetector_cnn.ipynb\" target=\"_parent\"><img src=\"https://colab.research.google.com/assets/colab-badge.svg\" alt=\"Open In Colab\"/></a>"
      ]
    },
    {
      "cell_type": "code",
      "source": [
        "!pip install wandb"
      ],
      "metadata": {
        "id": "QasHudH9Sl12"
      },
      "execution_count": null,
      "outputs": []
    },
    {
      "cell_type": "code",
      "execution_count": 2,
      "metadata": {
        "id": "xHZmGicOR_y9"
      },
      "outputs": [],
      "source": [
        "import tensorflow as tf\n",
        "from tensorflow.keras.preprocessing.image import ImageDataGenerator\n",
        "from tensorflow.keras.layers import Conv2D, MaxPool2D, Flatten, Dense\n",
        "import wandb\n",
        "from wandb.keras import WandbCallback\n",
        "import numpy as np\n",
        "import cv2\n",
        "import matplotlib.pyplot as plt\n",
        "from sklearn.metrics import confusion_matrix\n",
        "import seaborn as sns\n",
        "\n"
      ]
    },
    {
      "cell_type": "code",
      "source": [
        "wandb.init(project =\"car_Detector\")"
      ],
      "metadata": {
        "colab": {
          "base_uri": "https://localhost:8080/",
          "height": 160
        },
        "id": "h6Q1YfJZTezm",
        "outputId": "318021d1-db79-47c0-9e1b-0c383e1e25f9"
      },
      "execution_count": 4,
      "outputs": [
        {
          "output_type": "display_data",
          "data": {
            "text/plain": [
              "<IPython.core.display.Javascript object>"
            ],
            "application/javascript": [
              "\n",
              "        window._wandbApiKey = new Promise((resolve, reject) => {\n",
              "            function loadScript(url) {\n",
              "            return new Promise(function(resolve, reject) {\n",
              "                let newScript = document.createElement(\"script\");\n",
              "                newScript.onerror = reject;\n",
              "                newScript.onload = resolve;\n",
              "                document.body.appendChild(newScript);\n",
              "                newScript.src = url;\n",
              "            });\n",
              "            }\n",
              "            loadScript(\"https://cdn.jsdelivr.net/npm/postmate/build/postmate.min.js\").then(() => {\n",
              "            const iframe = document.createElement('iframe')\n",
              "            iframe.style.cssText = \"width:0;height:0;border:none\"\n",
              "            document.body.appendChild(iframe)\n",
              "            const handshake = new Postmate({\n",
              "                container: iframe,\n",
              "                url: 'https://wandb.ai/authorize'\n",
              "            });\n",
              "            const timeout = setTimeout(() => reject(\"Couldn't auto authenticate\"), 5000)\n",
              "            handshake.then(function(child) {\n",
              "                child.on('authorize', data => {\n",
              "                    clearTimeout(timeout)\n",
              "                    resolve(data)\n",
              "                });\n",
              "            });\n",
              "            })\n",
              "        });\n",
              "    "
            ]
          },
          "metadata": {}
        },
        {
          "output_type": "stream",
          "name": "stderr",
          "text": [
            "\u001b[34m\u001b[1mwandb\u001b[0m: You can find your API key in your browser here: https://wandb.ai/authorize\n"
          ]
        },
        {
          "name": "stdout",
          "output_type": "stream",
          "text": [
            "wandb: Paste an API key from your profile and hit enter, or press ctrl+c to quit: ··········\n"
          ]
        },
        {
          "output_type": "stream",
          "name": "stderr",
          "text": [
            "\u001b[34m\u001b[1mwandb\u001b[0m: Appending key for api.wandb.ai to your netrc file: /root/.netrc\n"
          ]
        },
        {
          "output_type": "display_data",
          "data": {
            "text/plain": [
              "<IPython.core.display.HTML object>"
            ],
            "text/html": [
              "Tracking run with wandb version 0.12.11"
            ]
          },
          "metadata": {}
        },
        {
          "output_type": "display_data",
          "data": {
            "text/plain": [
              "<IPython.core.display.HTML object>"
            ],
            "text/html": [
              "Run data is saved locally in <code>/content/wandb/run-20220331_164401-22n7ws0d</code>"
            ]
          },
          "metadata": {}
        },
        {
          "output_type": "display_data",
          "data": {
            "text/plain": [
              "<IPython.core.display.HTML object>"
            ],
            "text/html": [
              "Syncing run <strong><a href=\"https://wandb.ai/fereshteh_ebadi/car_Detector/runs/22n7ws0d\" target=\"_blank\">wandering-shadow-1</a></strong> to <a href=\"https://wandb.ai/fereshteh_ebadi/car_Detector\" target=\"_blank\">Weights & Biases</a> (<a href=\"https://wandb.me/run\" target=\"_blank\">docs</a>)<br/>"
            ]
          },
          "metadata": {}
        },
        {
          "output_type": "execute_result",
          "data": {
            "text/html": [
              "<button onClick=\"this.nextSibling.style.display='block';this.style.display='none';\">Display W&B run</button><iframe src=\"https://wandb.ai/fereshteh_ebadi/car_Detector/runs/22n7ws0d?jupyter=true\" style=\"border:none;width:100%;height:420px;display:none;\"></iframe>"
            ],
            "text/plain": [
              "<wandb.sdk.wandb_run.Run at 0x7f7f880fb450>"
            ]
          },
          "metadata": {},
          "execution_count": 4
        }
      ]
    },
    {
      "cell_type": "code",
      "source": [
        "config = wandb.config\n",
        "config.learning_rate = 0.001\n"
      ],
      "metadata": {
        "id": "RarXnhmtSPb1"
      },
      "execution_count": 5,
      "outputs": []
    },
    {
      "cell_type": "code",
      "source": [
        "# def my_preprocess(image):\n",
        "#   image = cv2.cvtColor(image,cv2.COLOR_BGR2GRAY)\n",
        "#   return image"
      ],
      "metadata": {
        "id": "zEK8iPR1fqh3"
      },
      "execution_count": 6,
      "outputs": []
    },
    {
      "cell_type": "markdown",
      "source": [
        "**Dataset**"
      ],
      "metadata": {
        "id": "kwzzkxBGFItg"
      }
    },
    {
      "cell_type": "code",
      "source": [
        "from google.colab import drive\n",
        "drive.mount(\"/content/drive/\")\n"
      ],
      "metadata": {
        "colab": {
          "base_uri": "https://localhost:8080/"
        },
        "id": "1gkyqhztWX4O",
        "outputId": "2ceed5ca-60ec-495b-ae46-4a8421bf0949"
      },
      "execution_count": 7,
      "outputs": [
        {
          "output_type": "stream",
          "name": "stdout",
          "text": [
            "Mounted at /content/drive/\n"
          ]
        }
      ]
    },
    {
      "cell_type": "code",
      "source": [
        "dataset_path = \"/content/drive/MyDrive/datasets/cars\"\n",
        "width = height = 224\n",
        "\n",
        "idg = ImageDataGenerator(\n",
        "    rescale = 1./255,\n",
        "    # Augmentation\n",
        "    horizontal_flip = True,\n",
        "    zoom_range=0.1,\n",
        "    rotation_range = 15,\n",
        "    brightness_range = (0.8, 1.2),\n",
        "    # preprocessing_function = my_preprocess\n",
        "    validation_split = 0.2\n",
        ")\n",
        "\n",
        "train_data = idg.flow_from_directory(\n",
        "    dataset_path,\n",
        "    target_size = (width, height),\n",
        "    class_mode = \"categorical\",\n",
        "    subset= \"training\",\n",
        "    \n",
        ")\n",
        "\n",
        "val_data = idg.flow_from_directory(\n",
        "    dataset_path,\n",
        "    target_size=(width, height),\n",
        "    class_mode= \"categorical\",\n",
        "    subset= \"validation\"\n",
        ")"
      ],
      "metadata": {
        "colab": {
          "base_uri": "https://localhost:8080/"
        },
        "id": "2N06jEyiFLTM",
        "outputId": "6629f384-a701-4515-a4d7-f03d4f354ec6"
      },
      "execution_count": 8,
      "outputs": [
        {
          "output_type": "stream",
          "name": "stdout",
          "text": [
            "Found 634 images belonging to 4 classes.\n",
            "Found 157 images belonging to 4 classes.\n"
          ]
        }
      ]
    },
    {
      "cell_type": "code",
      "source": [
        "model = tf.keras.models.Sequential([\n",
        "        Conv2D(32, (3, 3), activation=\"relu\", input_shape=( width, height, 3)),\n",
        "        Conv2D(32, (3, 3), activation=\"relu\"),\n",
        "        MaxPool2D(),\n",
        "        Conv2D(32, (3, 3), activation=\"relu\"),\n",
        "        Conv2D(32, (3, 3), activation=\"relu\"),\n",
        "        MaxPool2D(),\n",
        "        Conv2D(64, (3, 3), activation=\"relu\"),\n",
        "        Conv2D(64, (3, 3), activation=\"relu\"),\n",
        "        MaxPool2D(),\n",
        "\n",
        "        Flatten(),\n",
        "        # Dense(512, activation=\"relu\"),\n",
        "        Dense(128, activation=\"relu\"),\n",
        "        Dense(64, activation=\"relu\"),\n",
        "        Dense(4, activation=\"softmax\"),\n",
        "\n",
        "\n",
        "])"
      ],
      "metadata": {
        "id": "wMTI2jOQXUuM"
      },
      "execution_count": 9,
      "outputs": []
    },
    {
      "cell_type": "code",
      "source": [
        "model.compile(optimizer= tf.keras.optimizers.Adam(learning_rate= config.learning_rate),\n",
        "              loss= tf.keras.losses.categorical_crossentropy,\n",
        "              metrics=['accuracy']\n",
        "              )"
      ],
      "metadata": {
        "id": "9-z8_cfPSe1N"
      },
      "execution_count": 10,
      "outputs": []
    },
    {
      "cell_type": "code",
      "source": [
        "model_history = model.fit(train_data, epochs= 25, validation_data= val_data, callbacks=[WandbCallback()])"
      ],
      "metadata": {
        "colab": {
          "base_uri": "https://localhost:8080/"
        },
        "id": "HsMW3GPSaRxG",
        "outputId": "76e6a87d-274f-4b69-ce5e-67f168d3b05d"
      },
      "execution_count": 11,
      "outputs": [
        {
          "output_type": "stream",
          "name": "stdout",
          "text": [
            "Epoch 1/25\n",
            "20/20 [==============================] - 484s 25s/step - loss: 1.3811 - accuracy: 0.2981 - val_loss: 1.2719 - val_accuracy: 0.3694 - _timestamp: 1648745621.0000 - _runtime: 580.0000\n",
            "Epoch 2/25\n",
            "20/20 [==============================] - 29s 1s/step - loss: 1.2108 - accuracy: 0.4085 - val_loss: 1.0993 - val_accuracy: 0.4841 - _timestamp: 1648745669.0000 - _runtime: 628.0000\n",
            "Epoch 3/25\n",
            "20/20 [==============================] - 29s 1s/step - loss: 1.1538 - accuracy: 0.4700 - val_loss: 1.3257 - val_accuracy: 0.3822 - _timestamp: 1648745698.0000 - _runtime: 657.0000\n",
            "Epoch 4/25\n",
            "20/20 [==============================] - 29s 1s/step - loss: 1.0625 - accuracy: 0.5331 - val_loss: 1.0676 - val_accuracy: 0.5159 - _timestamp: 1648745727.0000 - _runtime: 686.0000\n",
            "Epoch 5/25\n",
            "20/20 [==============================] - 29s 1s/step - loss: 0.9588 - accuracy: 0.5804 - val_loss: 1.1245 - val_accuracy: 0.5032 - _timestamp: 1648745756.0000 - _runtime: 715.0000\n",
            "Epoch 6/25\n",
            "20/20 [==============================] - 29s 1s/step - loss: 0.8667 - accuracy: 0.6136 - val_loss: 1.0580 - val_accuracy: 0.5350 - _timestamp: 1648745785.0000 - _runtime: 744.0000\n",
            "Epoch 7/25\n",
            "20/20 [==============================] - 29s 1s/step - loss: 0.8415 - accuracy: 0.6562 - val_loss: 1.1557 - val_accuracy: 0.5096 - _timestamp: 1648745826.0000 - _runtime: 785.0000\n",
            "Epoch 8/25\n",
            "20/20 [==============================] - 29s 1s/step - loss: 0.7853 - accuracy: 0.6782 - val_loss: 1.2212 - val_accuracy: 0.4841 - _timestamp: 1648745855.0000 - _runtime: 814.0000\n",
            "Epoch 9/25\n",
            "20/20 [==============================] - 29s 1s/step - loss: 0.8212 - accuracy: 0.6467 - val_loss: 1.1489 - val_accuracy: 0.5159 - _timestamp: 1648745884.0000 - _runtime: 843.0000\n",
            "Epoch 10/25\n",
            "20/20 [==============================] - 29s 1s/step - loss: 0.7595 - accuracy: 0.6751 - val_loss: 1.0322 - val_accuracy: 0.5987 - _timestamp: 1648745912.0000 - _runtime: 871.0000\n",
            "Epoch 11/25\n",
            "20/20 [==============================] - 29s 1s/step - loss: 0.7136 - accuracy: 0.6909 - val_loss: 1.1276 - val_accuracy: 0.5096 - _timestamp: 1648745941.0000 - _runtime: 900.0000\n",
            "Epoch 12/25\n",
            "20/20 [==============================] - 29s 1s/step - loss: 0.6585 - accuracy: 0.7366 - val_loss: 1.1608 - val_accuracy: 0.5414 - _timestamp: 1648745970.0000 - _runtime: 929.0000\n",
            "Epoch 13/25\n",
            "20/20 [==============================] - 29s 1s/step - loss: 0.6997 - accuracy: 0.6987 - val_loss: 1.0908 - val_accuracy: 0.5032 - _timestamp: 1648745999.0000 - _runtime: 958.0000\n",
            "Epoch 14/25\n",
            "20/20 [==============================] - 29s 1s/step - loss: 0.6652 - accuracy: 0.7177 - val_loss: 1.1381 - val_accuracy: 0.5541 - _timestamp: 1648746028.0000 - _runtime: 987.0000\n",
            "Epoch 15/25\n",
            "20/20 [==============================] - 29s 1s/step - loss: 0.5969 - accuracy: 0.7555 - val_loss: 1.0655 - val_accuracy: 0.5924 - _timestamp: 1648746057.0000 - _runtime: 1016.0000\n",
            "Epoch 16/25\n",
            "20/20 [==============================] - 29s 1s/step - loss: 0.5732 - accuracy: 0.7571 - val_loss: 1.1947 - val_accuracy: 0.5541 - _timestamp: 1648746086.0000 - _runtime: 1045.0000\n",
            "Epoch 17/25\n",
            "20/20 [==============================] - 29s 1s/step - loss: 0.5121 - accuracy: 0.8044 - val_loss: 1.3191 - val_accuracy: 0.5287 - _timestamp: 1648746115.0000 - _runtime: 1074.0000\n",
            "Epoch 18/25\n",
            "20/20 [==============================] - 29s 1s/step - loss: 0.4914 - accuracy: 0.8060 - val_loss: 1.3689 - val_accuracy: 0.5223 - _timestamp: 1648746144.0000 - _runtime: 1103.0000\n",
            "Epoch 19/25\n",
            "20/20 [==============================] - 29s 1s/step - loss: 0.4342 - accuracy: 0.8360 - val_loss: 1.4517 - val_accuracy: 0.5223 - _timestamp: 1648746173.0000 - _runtime: 1132.0000\n",
            "Epoch 20/25\n",
            "20/20 [==============================] - 29s 1s/step - loss: 0.3985 - accuracy: 0.8438 - val_loss: 1.4277 - val_accuracy: 0.5796 - _timestamp: 1648746202.0000 - _runtime: 1161.0000\n",
            "Epoch 21/25\n",
            "20/20 [==============================] - 29s 1s/step - loss: 0.4365 - accuracy: 0.8218 - val_loss: 1.2369 - val_accuracy: 0.5669 - _timestamp: 1648746231.0000 - _runtime: 1190.0000\n",
            "Epoch 22/25\n",
            "20/20 [==============================] - 29s 1s/step - loss: 0.3997 - accuracy: 0.8344 - val_loss: 1.3651 - val_accuracy: 0.5796 - _timestamp: 1648746260.0000 - _runtime: 1219.0000\n",
            "Epoch 23/25\n",
            "20/20 [==============================] - 29s 1s/step - loss: 0.3091 - accuracy: 0.8722 - val_loss: 1.8430 - val_accuracy: 0.5159 - _timestamp: 1648746289.0000 - _runtime: 1248.0000\n",
            "Epoch 24/25\n",
            "20/20 [==============================] - 29s 1s/step - loss: 0.4039 - accuracy: 0.8407 - val_loss: 1.1716 - val_accuracy: 0.5732 - _timestamp: 1648746318.0000 - _runtime: 1277.0000\n",
            "Epoch 25/25\n",
            "20/20 [==============================] - 29s 1s/step - loss: 0.3436 - accuracy: 0.8707 - val_loss: 1.6817 - val_accuracy: 0.5478 - _timestamp: 1648746346.0000 - _runtime: 1305.0000\n"
          ]
        }
      ]
    },
    {
      "cell_type": "code",
      "source": [
        "model.fit(train_data, epochs= 1, validation_data= val_data, callbacks=[WandbCallback()])"
      ],
      "metadata": {
        "colab": {
          "base_uri": "https://localhost:8080/"
        },
        "id": "bCkv30f8nn-y",
        "outputId": "9b85b69f-afd4-42b4-9870-564b3114f204"
      },
      "execution_count": 23,
      "outputs": [
        {
          "output_type": "stream",
          "name": "stdout",
          "text": [
            "20/20 [==============================] - 30s 1s/step - loss: 0.2476 - accuracy: 0.8959 - val_loss: 1.6409 - val_accuracy: 0.6497 - _timestamp: 1648746848.0000 - _runtime: 1807.0000\n"
          ]
        },
        {
          "output_type": "execute_result",
          "data": {
            "text/plain": [
              "<keras.callbacks.History at 0x7f7f083f6b90>"
            ]
          },
          "metadata": {},
          "execution_count": 23
        }
      ]
    },
    {
      "cell_type": "markdown",
      "source": [
        "**Test**"
      ],
      "metadata": {
        "id": "5_hEtv7WdgLI"
      }
    },
    {
      "cell_type": "code",
      "source": [
        "dataset_path = \"/content/drive/MyDrive/datasets/Tests/cars\"\n",
        "\n",
        "idg = ImageDataGenerator(\n",
        "    rescale = 1./ 255,\n",
        ")\n",
        "\n",
        "test_data = idg.flow_from_directory(\n",
        "    dataset_path,\n",
        "    target_size = (width, height),\n",
        "    class_mode = \"categorical\",\n",
        ")\n",
        "test_loss, test_acc= model.evaluate(test_data)\n"
      ],
      "metadata": {
        "colab": {
          "base_uri": "https://localhost:8080/"
        },
        "id": "D5PUtS68I-d9",
        "outputId": "5e88bb3a-65b9-43b1-e957-2fa38b3eda21"
      },
      "execution_count": 25,
      "outputs": [
        {
          "output_type": "stream",
          "name": "stdout",
          "text": [
            "Found 16 images belonging to 4 classes.\n",
            "1/1 [==============================] - 0s 437ms/step - loss: 1.0413 - accuracy: 0.7500\n"
          ]
        }
      ]
    },
    {
      "cell_type": "code",
      "source": [
        "model.save(\"/content/drive/MyDrive/models/44-carDetector-cnn.h5\")"
      ],
      "metadata": {
        "id": "O40annoQuphU"
      },
      "execution_count": 26,
      "outputs": []
    },
    {
      "cell_type": "code",
      "source": [
        "print(test_loss)\n",
        "print(test_acc)"
      ],
      "metadata": {
        "colab": {
          "base_uri": "https://localhost:8080/"
        },
        "id": "CWxGuJBqYDx9",
        "outputId": "69aaa1c9-ad8f-4c12-c0bf-32028567a08c"
      },
      "execution_count": 27,
      "outputs": [
        {
          "output_type": "stream",
          "name": "stdout",
          "text": [
            "1.0413060188293457\n",
            "0.75\n"
          ]
        }
      ]
    },
    {
      "cell_type": "code",
      "source": [
        "Y_pred = []\n",
        "\n",
        "for path in test_data.filepaths:\n",
        "    image = cv2.imread(path)\n",
        "    image = cv2.cvtColor(image, cv2.COLOR_BGR2RGB)\n",
        "    image = cv2.resize(image, (width, height))\n",
        "    image = image / 255\n",
        "    image = image.reshape(1, width, height, 3)\n",
        "    Y_pred.append(np.argmax(model.predict(image)))\n",
        "\n",
        "\n",
        "cv_confMTX = confusion_matrix(test_data.classes, Y_pred)\n",
        "print(cv_confMTX)\n",
        "\n",
        "ax = sns.heatmap(cv_confMTX, annot=True, cmap='Blues')\n",
        "ax.set_title('carDetector Confusion Matrix\\n\\n')\n",
        "ax.set_xlabel('\\nPredicted Values')\n",
        "ax.set_ylabel('Actual Values ')\n",
        "\n",
        "plt.show()"
      ],
      "metadata": {
        "id": "FiieiDBDwGID",
        "colab": {
          "base_uri": "https://localhost:8080/",
          "height": 406
        },
        "outputId": "d9b3f0d7-7358-4ed1-e33d-540df1c8c4b5"
      },
      "execution_count": 29,
      "outputs": [
        {
          "output_type": "stream",
          "name": "stdout",
          "text": [
            "[[4 0 0 0]\n",
            " [0 2 1 1]\n",
            " [0 0 3 1]\n",
            " [0 1 0 3]]\n"
          ]
        },
        {
          "output_type": "display_data",
          "data": {
            "text/plain": [
              "<Figure size 432x288 with 2 Axes>"
            ],
            "image/png": "[encoded data removed]"
          },
          "metadata": {
            "needs_background": "light"
          }
        }
      ]
    },
    {
      "cell_type": "markdown",
      "source": [
        "**Inference**"
      ],
      "metadata": {
        "id": "OJz6kOECeWfg"
      }
    },
    {
      "cell_type": "code",
      "source": [
        "image = cv2.imread(\"/content/drive/MyDrive/datasets/Inference/cars/image.jpg\")\n",
        "image = cv2.cvtColor(image, cv2.COLOR_BGR2RGB)\n",
        "image = cv2.resize(image, (width, height))\n",
        "image = image / 255\n",
        "image = image.reshape(1, width, height, 3)  # 3d -> 4D\n",
        "\n",
        "result = model.predict(image)\n",
        "print(result)\n",
        "pred = np.argmax(result)\n",
        "print(pred)\n",
        "if pred == 0:\n",
        "  print(\"Bulldozer 🚜\")\n",
        "  #  print(\"\\U0001F699\")\n",
        "elif pred==1:\n",
        "  print(\"Bus 🚌\")\n",
        "  # print(\"\\U0001F69A\")\n",
        "elif pred==2:\n",
        "  # print(\"\")\n",
        "  print(\"pickup \\U0001F6FB\")\n",
        "elif pred==3:\n",
        "  print(\"sedan 🚗\")\n",
        "  # print(\"\\U0001F697\")  \n"
      ],
      "metadata": {
        "colab": {
          "base_uri": "https://localhost:8080/"
        },
        "id": "TrVAz0eEeabd",
        "outputId": "8f9156bf-cabf-4436-bc9d-a34f0d1940be"
      },
      "execution_count": 32,
      "outputs": [
        {
          "output_type": "stream",
          "name": "stdout",
          "text": [
            "[[1.1073972e-06 1.8992060e-03 5.9329677e-02 9.3876994e-01]]\n",
            "3\n",
            "sedan 🚗\n"
          ]
        }
      ]
    },
    {
      "cell_type": "code",
      "source": [
        ""
      ],
      "metadata": {
        "id": "AQ2vefJXF5OF"
      },
      "execution_count": null,
      "outputs": []
    }
  ]
}