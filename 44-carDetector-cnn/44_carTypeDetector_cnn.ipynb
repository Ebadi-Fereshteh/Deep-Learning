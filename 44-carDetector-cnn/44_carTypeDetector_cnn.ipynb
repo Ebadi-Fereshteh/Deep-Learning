{
  "nbformat": 4,
  "nbformat_minor": 0,
  "metadata": {
    "colab": {
      "name": "44-carTypeDetector-cnn.ipynb",
      "provenance": [],
      "collapsed_sections": [],
      "mount_file_id": "1jXG0ZSKWzGPlGUgt5g8Vp8IAU6DOuw8k",
      "authorship_tag": "ABX9TyPoZBLuoYsv9kOxD1a1DNBG",
      "include_colab_link": true
    },
    "kernelspec": {
      "name": "python3",
      "display_name": "Python 3"
    },
    "language_info": {
      "name": "python"
    }
  },
  "cells": [
    {
      "cell_type": "markdown",
      "metadata": {
        "id": "view-in-github",
        "colab_type": "text"
      },
      "source": [
        "<a href=\"https://colab.research.google.com/github/Ebadi-Fereshteh/Deep-Learning/blob/main/44-carDetector-cnn/44_carTypeDetector_cnn.ipynb\" target=\"_parent\"><img src=\"https://colab.research.google.com/assets/colab-badge.svg\" alt=\"Open In Colab\"/></a>"
      ]
    },
    {
      "cell_type": "code",
      "source": [
        "!pip install wandb"
      ],
      "metadata": {
        "id": "QasHudH9Sl12"
      },
      "execution_count": null,
      "outputs": []
    },
    {
      "cell_type": "code",
      "execution_count": 2,
      "metadata": {
        "id": "xHZmGicOR_y9"
      },
      "outputs": [],
      "source": [
        "import tensorflow as tf\n",
        "from tensorflow.keras.preprocessing.image import ImageDataGenerator\n",
        "from tensorflow.keras.layers import Conv2D, MaxPool2D, Flatten, Dense\n",
        "import wandb\n",
        "from wandb.keras import WandbCallback\n",
        "import numpy as np\n",
        "import cv2\n",
        "import matplotlib.pyplot as plt\n",
        "from sklearn.metrics import confusion_matrix\n",
        "import seaborn as sns\n",
        "\n"
      ]
    },
    {
      "cell_type": "code",
      "source": [
        "wandb.init(project =\"car type Detector\")"
      ],
      "metadata": {
        "colab": {
          "base_uri": "https://localhost:8080/",
          "height": 160
        },
        "id": "h6Q1YfJZTezm",
        "outputId": "1b5fc0b0-5713-4cd3-d4f7-90c839164638"
      },
      "execution_count": 3,
      "outputs": [
        {
          "output_type": "display_data",
          "data": {
            "text/plain": [
              "<IPython.core.display.Javascript object>"
            ],
            "application/javascript": [
              "\n",
              "        window._wandbApiKey = new Promise((resolve, reject) => {\n",
              "            function loadScript(url) {\n",
              "            return new Promise(function(resolve, reject) {\n",
              "                let newScript = document.createElement(\"script\");\n",
              "                newScript.onerror = reject;\n",
              "                newScript.onload = resolve;\n",
              "                document.body.appendChild(newScript);\n",
              "                newScript.src = url;\n",
              "            });\n",
              "            }\n",
              "            loadScript(\"https://cdn.jsdelivr.net/npm/postmate/build/postmate.min.js\").then(() => {\n",
              "            const iframe = document.createElement('iframe')\n",
              "            iframe.style.cssText = \"width:0;height:0;border:none\"\n",
              "            document.body.appendChild(iframe)\n",
              "            const handshake = new Postmate({\n",
              "                container: iframe,\n",
              "                url: 'https://wandb.ai/authorize'\n",
              "            });\n",
              "            const timeout = setTimeout(() => reject(\"Couldn't auto authenticate\"), 5000)\n",
              "            handshake.then(function(child) {\n",
              "                child.on('authorize', data => {\n",
              "                    clearTimeout(timeout)\n",
              "                    resolve(data)\n",
              "                });\n",
              "            });\n",
              "            })\n",
              "        });\n",
              "    "
            ]
          },
          "metadata": {}
        },
        {
          "output_type": "stream",
          "name": "stderr",
          "text": [
            "\u001b[34m\u001b[1mwandb\u001b[0m: You can find your API key in your browser here: https://wandb.ai/authorize\n"
          ]
        },
        {
          "name": "stdout",
          "output_type": "stream",
          "text": [
            "wandb: Paste an API key from your profile and hit enter, or press ctrl+c to quit: ··········\n"
          ]
        },
        {
          "output_type": "stream",
          "name": "stderr",
          "text": [
            "\u001b[34m\u001b[1mwandb\u001b[0m: Appending key for api.wandb.ai to your netrc file: /root/.netrc\n"
          ]
        },
        {
          "output_type": "display_data",
          "data": {
            "text/plain": [
              "<IPython.core.display.HTML object>"
            ],
            "text/html": [
              "Tracking run with wandb version 0.12.11"
            ]
          },
          "metadata": {}
        },
        {
          "output_type": "display_data",
          "data": {
            "text/plain": [
              "<IPython.core.display.HTML object>"
            ],
            "text/html": [
              "Run data is saved locally in <code>/content/wandb/run-20220331_072422-3q3d7y29</code>"
            ]
          },
          "metadata": {}
        },
        {
          "output_type": "display_data",
          "data": {
            "text/plain": [
              "<IPython.core.display.HTML object>"
            ],
            "text/html": [
              "Syncing run <strong><a href=\"https://wandb.ai/fereshteh_ebadi/car%20type%20Detector/runs/3q3d7y29\" target=\"_blank\">pious-jazz-3</a></strong> to <a href=\"https://wandb.ai/fereshteh_ebadi/car%20type%20Detector\" target=\"_blank\">Weights & Biases</a> (<a href=\"https://wandb.me/run\" target=\"_blank\">docs</a>)<br/>"
            ]
          },
          "metadata": {}
        },
        {
          "output_type": "execute_result",
          "data": {
            "text/html": [
              "<button onClick=\"this.nextSibling.style.display='block';this.style.display='none';\">Display W&B run</button><iframe src=\"https://wandb.ai/fereshteh_ebadi/car%20type%20Detector/runs/3q3d7y29?jupyter=true\" style=\"border:none;width:100%;height:420px;display:none;\"></iframe>"
            ],
            "text/plain": [
              "<wandb.sdk.wandb_run.Run at 0x7f111b9bc250>"
            ]
          },
          "metadata": {},
          "execution_count": 3
        }
      ]
    },
    {
      "cell_type": "code",
      "source": [
        "config = wandb.config\n",
        "config.learning_rate = 0.001\n"
      ],
      "metadata": {
        "id": "RarXnhmtSPb1"
      },
      "execution_count": 4,
      "outputs": []
    },
    {
      "cell_type": "code",
      "source": [
        "# def my_preprocess(image):\n",
        "#   image = cv2.cvtColor(image,cv2.COLOR_BGR2GRAY)\n",
        "#   return image"
      ],
      "metadata": {
        "id": "zEK8iPR1fqh3"
      },
      "execution_count": 5,
      "outputs": []
    },
    {
      "cell_type": "markdown",
      "source": [
        "**Dataset**"
      ],
      "metadata": {
        "id": "kwzzkxBGFItg"
      }
    },
    {
      "cell_type": "code",
      "source": [
        "from google.colab import drive\n",
        "drive.mount(\"/content/drive/\")\n"
      ],
      "metadata": {
        "colab": {
          "base_uri": "https://localhost:8080/"
        },
        "id": "1gkyqhztWX4O",
        "outputId": "bee9721a-fbba-46c8-c8b9-c9010ce5d682"
      },
      "execution_count": 6,
      "outputs": [
        {
          "output_type": "stream",
          "name": "stdout",
          "text": [
            "Drive already mounted at /content/drive/; to attempt to forcibly remount, call drive.mount(\"/content/drive/\", force_remount=True).\n"
          ]
        }
      ]
    },
    {
      "cell_type": "code",
      "source": [
        "dataset_path = \"/content/drive/MyDrive/datasets/cars\"\n",
        "width = height = 224\n",
        "\n",
        "idg = ImageDataGenerator(\n",
        "    rescale = 1./255,\n",
        "    # Augmentation\n",
        "    horizontal_flip = True,\n",
        "    zoom_range=0.1,\n",
        "    rotation_range = 15,\n",
        "    brightness_range = (0.9, 1.1),\n",
        "    # preprocessing_function = my_preprocess\n",
        "    validation_split = 0.2\n",
        ")\n",
        "\n",
        "train_data = idg.flow_from_directory(\n",
        "    dataset_path,\n",
        "    target_size = (width, height),\n",
        "    class_mode = \"categorical\",\n",
        "    subset= \"training\",\n",
        "    \n",
        ")\n",
        "\n",
        "val_data = idg.flow_from_directory(\n",
        "    dataset_path,\n",
        "    target_size=(width, height),\n",
        "    class_mode= \"categorical\",\n",
        "    subset= \"validation\"\n",
        ")"
      ],
      "metadata": {
        "colab": {
          "base_uri": "https://localhost:8080/"
        },
        "id": "2N06jEyiFLTM",
        "outputId": "683e5f3c-6487-4109-e9f7-8c5743a8a1db"
      },
      "execution_count": 7,
      "outputs": [
        {
          "output_type": "stream",
          "name": "stdout",
          "text": [
            "Found 648 images belonging to 4 classes.\n",
            "Found 159 images belonging to 4 classes.\n"
          ]
        }
      ]
    },
    {
      "cell_type": "code",
      "source": [
        "model = tf.keras.models.Sequential([\n",
        "        Conv2D(32, (3, 3), activation=\"relu\", input_shape=( width, height, 3)),\n",
        "        Conv2D(32, (3, 3), activation=\"relu\"),\n",
        "        MaxPool2D(),\n",
        "        Conv2D(32, (3, 3), activation=\"relu\"),\n",
        "        Conv2D(32, (3, 3), activation=\"relu\"),\n",
        "        MaxPool2D(),\n",
        "        Conv2D(64, (3, 3), activation=\"relu\"),\n",
        "        Conv2D(64, (3, 3), activation=\"relu\"),\n",
        "        MaxPool2D(),\n",
        "\n",
        "        Flatten(),\n",
        "        # Dense(512, activation=\"relu\"),\n",
        "        Dense(256, activation=\"relu\"),\n",
        "        # Dense(128, activation=\"relu\"),\n",
        "        Dense(4, activation=\"softmax\"),\n",
        "\n",
        "\n",
        "])"
      ],
      "metadata": {
        "id": "wMTI2jOQXUuM"
      },
      "execution_count": 8,
      "outputs": []
    },
    {
      "cell_type": "code",
      "source": [
        "model.compile(optimizer= tf.keras.optimizers.Adam(learning_rate= config.learning_rate),\n",
        "              loss= tf.keras.losses.categorical_crossentropy,\n",
        "              metrics=['accuracy']\n",
        "              )"
      ],
      "metadata": {
        "id": "9-z8_cfPSe1N"
      },
      "execution_count": 9,
      "outputs": []
    },
    {
      "cell_type": "code",
      "source": [
        "model_history = model.fit(train_data, epochs= 25, validation_data= val_data, callbacks=[WandbCallback()])"
      ],
      "metadata": {
        "colab": {
          "base_uri": "https://localhost:8080/"
        },
        "id": "HsMW3GPSaRxG",
        "outputId": "13775e62-8a1a-4eb7-8b3a-0169d79167aa"
      },
      "execution_count": 10,
      "outputs": [
        {
          "output_type": "stream",
          "name": "stdout",
          "text": [
            "Epoch 1/25\n",
            "21/21 [==============================] - 230s 11s/step - loss: 1.4610 - accuracy: 0.2809 - val_loss: 1.3667 - val_accuracy: 0.3585 - _timestamp: 1648711799.0000 - _runtime: 337.0000\n",
            "Epoch 2/25\n",
            "21/21 [==============================] - 150s 7s/step - loss: 1.3674 - accuracy: 0.3179 - val_loss: 1.3517 - val_accuracy: 0.2830 - _timestamp: 1648711982.0000 - _runtime: 520.0000\n",
            "Epoch 3/25\n",
            "21/21 [==============================] - 149s 7s/step - loss: 1.3149 - accuracy: 0.3580 - val_loss: 1.3089 - val_accuracy: 0.3522 - _timestamp: 1648712131.0000 - _runtime: 669.0000\n",
            "Epoch 4/25\n",
            "21/21 [==============================] - 149s 7s/step - loss: 1.2911 - accuracy: 0.3796 - val_loss: 1.2597 - val_accuracy: 0.4340 - _timestamp: 1648712332.0000 - _runtime: 870.0000\n",
            "Epoch 5/25\n",
            "21/21 [==============================] - 148s 7s/step - loss: 1.2711 - accuracy: 0.4151 - val_loss: 1.3217 - val_accuracy: 0.3522 - _timestamp: 1648712481.0000 - _runtime: 1019.0000\n",
            "Epoch 6/25\n",
            "21/21 [==============================] - 148s 7s/step - loss: 1.2118 - accuracy: 0.4537 - val_loss: 1.2644 - val_accuracy: 0.4277 - _timestamp: 1648712629.0000 - _runtime: 1167.0000\n",
            "Epoch 7/25\n",
            "21/21 [==============================] - 148s 7s/step - loss: 1.1472 - accuracy: 0.4799 - val_loss: 1.2250 - val_accuracy: 0.4591 - _timestamp: 1648712777.0000 - _runtime: 1315.0000\n",
            "Epoch 8/25\n",
            "21/21 [==============================] - 148s 7s/step - loss: 1.1186 - accuracy: 0.4938 - val_loss: 1.2620 - val_accuracy: 0.4591 - _timestamp: 1648712926.0000 - _runtime: 1464.0000\n",
            "Epoch 9/25\n",
            "21/21 [==============================] - 149s 7s/step - loss: 1.0957 - accuracy: 0.5154 - val_loss: 1.2552 - val_accuracy: 0.4654 - _timestamp: 1648713074.0000 - _runtime: 1612.0000\n",
            "Epoch 10/25\n",
            "21/21 [==============================] - 149s 7s/step - loss: 1.0493 - accuracy: 0.5463 - val_loss: 1.2340 - val_accuracy: 0.4969 - _timestamp: 1648713277.0000 - _runtime: 1815.0000\n",
            "Epoch 11/25\n",
            "21/21 [==============================] - 149s 7s/step - loss: 0.9514 - accuracy: 0.5895 - val_loss: 1.2499 - val_accuracy: 0.4214 - _timestamp: 1648713425.0000 - _runtime: 1963.0000\n",
            "Epoch 12/25\n",
            "21/21 [==============================] - 149s 7s/step - loss: 0.9546 - accuracy: 0.5880 - val_loss: 1.2110 - val_accuracy: 0.4403 - _timestamp: 1648713574.0000 - _runtime: 2112.0000\n",
            "Epoch 13/25\n",
            "21/21 [==============================] - 149s 7s/step - loss: 0.8919 - accuracy: 0.6296 - val_loss: 1.1860 - val_accuracy: 0.4780 - _timestamp: 1648713724.0000 - _runtime: 2262.0000\n",
            "Epoch 14/25\n",
            "21/21 [==============================] - 149s 7s/step - loss: 0.8462 - accuracy: 0.6744 - val_loss: 1.3806 - val_accuracy: 0.4528 - _timestamp: 1648713873.0000 - _runtime: 2411.0000\n",
            "Epoch 15/25\n",
            "21/21 [==============================] - 149s 7s/step - loss: 0.8242 - accuracy: 0.6528 - val_loss: 1.2719 - val_accuracy: 0.4528 - _timestamp: 1648714022.0000 - _runtime: 2560.0000\n",
            "Epoch 16/25\n",
            "21/21 [==============================] - 148s 7s/step - loss: 0.7600 - accuracy: 0.6806 - val_loss: 1.2914 - val_accuracy: 0.5031 - _timestamp: 1648714223.0000 - _runtime: 2761.0000\n",
            "Epoch 17/25\n",
            "21/21 [==============================] - 148s 7s/step - loss: 0.7327 - accuracy: 0.7068 - val_loss: 1.2895 - val_accuracy: 0.4906 - _timestamp: 1648714371.0000 - _runtime: 2909.0000\n",
            "Epoch 18/25\n",
            "21/21 [==============================] - 148s 7s/step - loss: 0.7023 - accuracy: 0.7176 - val_loss: 1.5293 - val_accuracy: 0.5094 - _timestamp: 1648714573.0000 - _runtime: 3111.0000\n",
            "Epoch 19/25\n",
            "21/21 [==============================] - 148s 7s/step - loss: 0.6686 - accuracy: 0.7269 - val_loss: 1.4003 - val_accuracy: 0.4717 - _timestamp: 1648714721.0000 - _runtime: 3259.0000\n",
            "Epoch 20/25\n",
            "21/21 [==============================] - 148s 7s/step - loss: 0.5328 - accuracy: 0.8009 - val_loss: 1.5381 - val_accuracy: 0.4780 - _timestamp: 1648714923.0000 - _runtime: 3461.0000\n",
            "Epoch 21/25\n",
            "21/21 [==============================] - 148s 7s/step - loss: 0.5597 - accuracy: 0.7948 - val_loss: 1.6066 - val_accuracy: 0.5094 - _timestamp: 1648715071.0000 - _runtime: 3609.0000\n",
            "Epoch 22/25\n",
            "21/21 [==============================] - 148s 7s/step - loss: 0.5227 - accuracy: 0.7855 - val_loss: 1.5710 - val_accuracy: 0.4969 - _timestamp: 1648715273.0000 - _runtime: 3811.0000\n",
            "Epoch 23/25\n",
            "21/21 [==============================] - 149s 7s/step - loss: 0.5023 - accuracy: 0.8025 - val_loss: 1.5745 - val_accuracy: 0.4717 - _timestamp: 1648715422.0000 - _runtime: 3960.0000\n",
            "Epoch 24/25\n",
            "21/21 [==============================] - 149s 7s/step - loss: 0.5148 - accuracy: 0.8318 - val_loss: 1.4705 - val_accuracy: 0.4528 - _timestamp: 1648715571.0000 - _runtime: 4109.0000\n",
            "Epoch 25/25\n",
            "21/21 [==============================] - 149s 7s/step - loss: 0.4402 - accuracy: 0.8333 - val_loss: 1.6115 - val_accuracy: 0.4780 - _timestamp: 1648715773.0000 - _runtime: 4311.0000\n"
          ]
        }
      ]
    },
    {
      "cell_type": "code",
      "source": [
        "model.fit(train_data, epochs= 1, validation_data= val_data, callbacks=[WandbCallback()])"
      ],
      "metadata": {
        "colab": {
          "base_uri": "https://localhost:8080/"
        },
        "id": "bCkv30f8nn-y",
        "outputId": "1d1a14ab-e08f-45cd-fb79-18ac026848a7"
      },
      "execution_count": 11,
      "outputs": [
        {
          "output_type": "stream",
          "name": "stdout",
          "text": [
            "21/21 [==============================] - 150s 7s/step - loss: 0.3949 - accuracy: 0.8565 - val_loss: 1.8153 - val_accuracy: 0.4780 - _timestamp: 1648715995.0000 - _runtime: 4533.0000\n"
          ]
        },
        {
          "output_type": "execute_result",
          "data": {
            "text/plain": [
              "<keras.callbacks.History at 0x7f110f930a90>"
            ]
          },
          "metadata": {},
          "execution_count": 11
        }
      ]
    },
    {
      "cell_type": "markdown",
      "source": [
        "**Test**"
      ],
      "metadata": {
        "id": "5_hEtv7WdgLI"
      }
    },
    {
      "cell_type": "code",
      "source": [
        "dataset_path = \"/content/drive/MyDrive/datasets/Tests/cars\"\n",
        "\n",
        "idg = ImageDataGenerator(\n",
        "    rescale = 1./ 255,\n",
        ")\n",
        "\n",
        "test_data = idg.flow_from_directory(\n",
        "    dataset_path,\n",
        "    target_size = (width, height),\n",
        "    class_mode = \"categorical\",\n",
        ")\n",
        "test_loss, test_acc= model.evaluate(test_data)\n"
      ],
      "metadata": {
        "colab": {
          "base_uri": "https://localhost:8080/"
        },
        "id": "D5PUtS68I-d9",
        "outputId": "bbb1b373-b3ae-4864-df90-e897125b9c98"
      },
      "execution_count": 12,
      "outputs": [
        {
          "output_type": "stream",
          "name": "stdout",
          "text": [
            "Found 16 images belonging to 4 classes.\n",
            "1/1 [==============================] - 1s 982ms/step - loss: 1.5265 - accuracy: 0.6250\n"
          ]
        }
      ]
    },
    {
      "cell_type": "code",
      "source": [
        "model.save(\"/content/drive/MyDrive/models/44-carTypeDetector-cnn.h5\")"
      ],
      "metadata": {
        "id": "O40annoQuphU"
      },
      "execution_count": 13,
      "outputs": []
    },
    {
      "cell_type": "code",
      "source": [
        "print(test_loss)\n",
        "print(test_acc)"
      ],
      "metadata": {
        "colab": {
          "base_uri": "https://localhost:8080/"
        },
        "id": "CWxGuJBqYDx9",
        "outputId": "2dba5f94-c174-4bcc-da92-2fa2a1f225c8"
      },
      "execution_count": 14,
      "outputs": [
        {
          "output_type": "stream",
          "name": "stdout",
          "text": [
            "1.5265440940856934\n",
            "0.625\n"
          ]
        }
      ]
    },
    {
      "cell_type": "code",
      "source": [
        "plt.plot(model_history.history['accuracy'], label='accuracy')\n",
        "plt.plot(model_history.history['val_accuracy'], label = 'val_accuracy')\n",
        "plt.xlabel('Epoch')\n",
        "plt.ylabel('Accuracy')\n",
        "plt.title('Train')\n",
        "plt.ylim([0, 1])\n",
        "plt.legend(loc='lower right')"
      ],
      "metadata": {
        "id": "1cYkfta5uS-E",
        "colab": {
          "base_uri": "https://localhost:8080/",
          "height": 312
        },
        "outputId": "fced37e9-a814-426b-c432-6601818f7cbe"
      },
      "execution_count": 15,
      "outputs": [
        {
          "output_type": "execute_result",
          "data": {
            "text/plain": [
              "<matplotlib.legend.Legend at 0x7f1111b82d50>"
            ]
          },
          "metadata": {},
          "execution_count": 15
        },
        {
          "output_type": "display_data",
          "data": {
            "text/plain": [
              "<Figure size 432x288 with 1 Axes>"
            ],
            "image/png": "[encoded data removed]"
          },
          "metadata": {
            "needs_background": "light"
          }
        }
      ]
    },
    {
      "cell_type": "code",
      "source": [
        "Y_pred = []\n",
        "\n",
        "for path in test_data.filepaths:\n",
        "    image = cv2.imread(path)\n",
        "    image = cv2.cvtColor(image, cv2.COLOR_BGR2RGB)\n",
        "    image = cv2.resize(image, (width, height))\n",
        "    image = image / 255\n",
        "    image = image.reshape(1, width, height, 3)\n",
        "    Y_pred.append(np.argmax(model.predict(image)))\n",
        "\n",
        "\n",
        "cv_confMTX = confusion_matrix(test_data.classes, Y_pred)\n",
        "print(cv_confMTX)\n",
        "\n",
        "ax = sns.heatmap(cv_confMTX, annot=True, cmap='Blues')\n",
        "ax.set_title('carDetector Confusion Matrix\\n\\n')\n",
        "ax.set_xlabel('\\nPredicted Values')\n",
        "ax.set_ylabel('Actual Values ')\n",
        "\n",
        "plt.show()"
      ],
      "metadata": {
        "id": "FiieiDBDwGID",
        "colab": {
          "base_uri": "https://localhost:8080/",
          "height": 406
        },
        "outputId": "dddd61b6-dd4b-483c-c08b-a1741f5bc47b"
      },
      "execution_count": 16,
      "outputs": [
        {
          "output_type": "stream",
          "name": "stdout",
          "text": [
            "[[3 0 1 0]\n",
            " [1 3 0 0]\n",
            " [1 1 2 0]\n",
            " [1 0 1 2]]\n"
          ]
        },
        {
          "output_type": "display_data",
          "data": {
            "text/plain": [
              "<Figure size 432x288 with 2 Axes>"
            ],
            "image/png": "[encoded data removed]"
          },
          "metadata": {
            "needs_background": "light"
          }
        }
      ]
    },
    {
      "cell_type": "markdown",
      "source": [
        "**Inference**"
      ],
      "metadata": {
        "id": "OJz6kOECeWfg"
      }
    },
    {
      "cell_type": "code",
      "source": [
        "image = cv2.imread(\"/content/drive/MyDrive/datasets/Inference/cars/image.jpg\")\n",
        "image = cv2.cvtColor(image, cv2.COLOR_BGR2RGB)\n",
        "image = cv2.resize(image, (width, height))\n",
        "image = image / 255\n",
        "image = image.reshape(1, width, height, 3)  # 3d -> 4D\n",
        "\n",
        "result = model.predict(image)\n",
        "print(result)\n",
        "pred = np.argmax(result)\n",
        "print(pred)\n",
        "if pred == 0:\n",
        "  print(\"Hatchback 🚙\")\n",
        "  #  print(\"\\U0001F699\")\n",
        "elif pred==1:\n",
        "  print(\"Lorry 🚛\")\n",
        "  # print(\"\\U0001F69A\")\n",
        "elif pred==2:\n",
        "  # print(\"\")\n",
        "  print(\"pickup \\U0001F6FB\")\n",
        "elif pred==3:\n",
        "  print(\"sedan 🚗\")\n",
        "  # print(\"\\U0001F697\")  \n"
      ],
      "metadata": {
        "colab": {
          "base_uri": "https://localhost:8080/"
        },
        "id": "TrVAz0eEeabd",
        "outputId": "aa8ae165-f2b3-42b7-cbb4-7b1cbc6184a2"
      },
      "execution_count": 17,
      "outputs": [
        {
          "output_type": "stream",
          "name": "stdout",
          "text": [
            "[[1.4295404e-01 2.9090792e-04 2.5477616e-02 8.3127749e-01]]\n",
            "3\n",
            "sedan 🚗\n"
          ]
        }
      ]
    }
  ]
}