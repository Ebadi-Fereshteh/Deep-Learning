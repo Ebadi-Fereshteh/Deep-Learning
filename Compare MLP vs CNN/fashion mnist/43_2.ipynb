{
  "nbformat": 4,
  "nbformat_minor": 0,
  "metadata": {
    "colab": {
      "name": "43-2",
      "provenance": [],
      "collapsed_sections": [],
      "authorship_tag": "ABX9TyPE2IAbTT97CesSQC316CYq",
      "include_colab_link": true
    },
    "kernelspec": {
      "name": "python3",
      "display_name": "Python 3"
    },
    "language_info": {
      "name": "python"
    },
    "accelerator": "GPU"
  },
  "cells": [
    {
      "cell_type": "markdown",
      "metadata": {
        "id": "view-in-github",
        "colab_type": "text"
      },
      "source": [
        "<a href=\"https://colab.research.google.com/github/Ebadi-Fereshteh/Deep-Learning/blob/main/Compare%20MLP%20vs%20CNN/fashion%20mnist/43_2.ipynb\" target=\"_parent\"><img src=\"https://colab.research.google.com/assets/colab-badge.svg\" alt=\"Open In Colab\"/></a>"
      ]
    },
    {
      "cell_type": "code",
      "source": [
        "!pip install wandb"
      ],
      "metadata": {
        "id": "UouBwJRsJCGb"
      },
      "execution_count": null,
      "outputs": []
    },
    {
      "cell_type": "code",
      "execution_count": null,
      "metadata": {
        "id": "lKGNuQLp9c_u"
      },
      "outputs": [],
      "source": [
        "import tensorflow as tf\n",
        "from tensorflow.keras.layers import Dense\n",
        "from tensorflow.keras import layers\n",
        "import matplotlib.pyplot as plt\n",
        "import wandb\n",
        "from wandb.keras import WandbCallback\n",
        "import numpy as np\n",
        "from sklearn.model_selection import train_test_split\n",
        "import cv2"
      ]
    },
    {
      "cell_type": "code",
      "source": [
        "wandb.init(project= \"MLP Fashion Mnist\")"
      ],
      "metadata": {
        "id": "c1idUDL4OWG-"
      },
      "execution_count": null,
      "outputs": []
    },
    {
      "cell_type": "code",
      "source": [
        "config = wandb.config\n",
        "config.learning_rate = 0.001\n"
      ],
      "metadata": {
        "id": "7-x0MfCMLAVI"
      },
      "execution_count": null,
      "outputs": []
    },
    {
      "cell_type": "code",
      "source": [
        "(X_train, Y_train),(X_test, Y_test) = tf.keras.datasets.fashion_mnist.load_data()\n"
      ],
      "metadata": {
        "id": "n80xF38q_qAS",
        "colab": {
          "base_uri": "https://localhost:8080/"
        },
        "outputId": "149fc618-a0af-4d81-9a0a-8e9a62ffd38c"
      },
      "execution_count": null,
      "outputs": [
        {
          "output_type": "stream",
          "name": "stdout",
          "text": [
            "Downloading data from https://storage.googleapis.com/tensorflow/tf-keras-datasets/train-labels-idx1-ubyte.gz\n",
            "32768/29515 [=================================] - 0s 0us/step\n",
            "40960/29515 [=========================================] - 0s 0us/step\n",
            "Downloading data from https://storage.googleapis.com/tensorflow/tf-keras-datasets/train-images-idx3-ubyte.gz\n",
            "26427392/26421880 [==============================] - 0s 0us/step\n",
            "26435584/26421880 [==============================] - 0s 0us/step\n",
            "Downloading data from https://storage.googleapis.com/tensorflow/tf-keras-datasets/t10k-labels-idx1-ubyte.gz\n",
            "16384/5148 [===============================================================================================] - 0s 0us/step\n",
            "Downloading data from https://storage.googleapis.com/tensorflow/tf-keras-datasets/t10k-images-idx3-ubyte.gz\n",
            "4423680/4422102 [==============================] - 0s 0us/step\n",
            "4431872/4422102 [==============================] - 0s 0us/step\n"
          ]
        }
      ]
    },
    {
      "cell_type": "code",
      "source": [
        "# Normalize pixel values to be between 0 and 1\n",
        "X_train, X_test = X_train / 255.0 , X_test / 255.0"
      ],
      "metadata": {
        "id": "fu80iGpPDaNo"
      },
      "execution_count": null,
      "outputs": []
    },
    {
      "cell_type": "code",
      "source": [
        "X_train, X_validation, Y_train, Y_validation = train_test_split(X_train, Y_train, shuffle=True)"
      ],
      "metadata": {
        "id": "xHxzwNwVl7T9"
      },
      "execution_count": null,
      "outputs": []
    },
    {
      "cell_type": "markdown",
      "source": [
        "### MLP Model"
      ],
      "metadata": {
        "id": "iaZFOK2eEE-a"
      }
    },
    {
      "cell_type": "code",
      "source": [
        "model = tf.keras.models.Sequential([\n",
        "       tf.keras.layers.Flatten(input_shape=(28, 28)),\n",
        "      #  Dense(128, activation=\"relu\"),\n",
        "       Dense(64, activation=\"relu\"),\n",
        "       Dense(32, activation=\"relu\"),\n",
        "       Dense(10, activation=\"softmax\")                                     \n",
        "])"
      ],
      "metadata": {
        "id": "DxqiU8oonddf"
      },
      "execution_count": null,
      "outputs": []
    },
    {
      "cell_type": "code",
      "source": [
        "model.compile(optimizer= tf.keras.optimizers.Adam(learning_rate= config.learning_rate),\n",
        "              loss= tf.keras.losses.sparse_categorical_crossentropy,\n",
        "              metrics=['accuracy'])"
      ],
      "metadata": {
        "id": "vfgkyOg-FyrY"
      },
      "execution_count": null,
      "outputs": []
    },
    {
      "cell_type": "markdown",
      "source": [
        "## Train"
      ],
      "metadata": {
        "id": "_eOD1cQgREcS"
      }
    },
    {
      "cell_type": "code",
      "source": [
        "model_history = model.fit(X_train, Y_train, epochs= 10, validation_data=(X_validation, Y_validation), callbacks=[WandbCallback()])"
      ],
      "metadata": {
        "id": "WKmy-FR_Iqko",
        "colab": {
          "base_uri": "https://localhost:8080/"
        },
        "outputId": "c0037653-f9c8-4d82-faca-3eb685580ed6"
      },
      "execution_count": null,
      "outputs": [
        {
          "output_type": "stream",
          "name": "stdout",
          "text": [
            "Epoch 1/10\n",
            "1407/1407 [==============================] - 6s 4ms/step - loss: 0.3243 - accuracy: 0.8805 - val_loss: 0.3520 - val_accuracy: 0.8740 - _timestamp: 1648272664.0000 - _runtime: 183.0000\n",
            "Epoch 2/10\n",
            "1407/1407 [==============================] - 6s 4ms/step - loss: 0.3100 - accuracy: 0.8844 - val_loss: 0.3404 - val_accuracy: 0.8750 - _timestamp: 1648272669.0000 - _runtime: 188.0000\n",
            "Epoch 3/10\n",
            "1407/1407 [==============================] - 6s 4ms/step - loss: 0.2947 - accuracy: 0.8904 - val_loss: 0.3363 - val_accuracy: 0.8789 - _timestamp: 1648272675.0000 - _runtime: 194.0000\n",
            "Epoch 4/10\n",
            "1407/1407 [==============================] - 6s 4ms/step - loss: 0.2863 - accuracy: 0.8935 - val_loss: 0.3438 - val_accuracy: 0.8747 - _timestamp: 1648272680.0000 - _runtime: 199.0000\n",
            "Epoch 5/10\n",
            "1407/1407 [==============================] - 6s 4ms/step - loss: 0.2728 - accuracy: 0.8972 - val_loss: 0.3502 - val_accuracy: 0.8723 - _timestamp: 1648272686.0000 - _runtime: 205.0000\n",
            "Epoch 6/10\n",
            "1407/1407 [==============================] - 6s 4ms/step - loss: 0.2671 - accuracy: 0.9006 - val_loss: 0.3468 - val_accuracy: 0.8744 - _timestamp: 1648272692.0000 - _runtime: 211.0000\n",
            "Epoch 7/10\n",
            "1407/1407 [==============================] - 6s 4ms/step - loss: 0.2598 - accuracy: 0.9024 - val_loss: 0.3431 - val_accuracy: 0.8801 - _timestamp: 1648272698.0000 - _runtime: 217.0000\n",
            "Epoch 8/10\n",
            "1407/1407 [==============================] - 6s 4ms/step - loss: 0.2505 - accuracy: 0.9062 - val_loss: 0.3521 - val_accuracy: 0.8750 - _timestamp: 1648272704.0000 - _runtime: 223.0000\n",
            "Epoch 9/10\n",
            "1407/1407 [==============================] - 6s 4ms/step - loss: 0.2437 - accuracy: 0.9074 - val_loss: 0.3235 - val_accuracy: 0.8857 - _timestamp: 1648272709.0000 - _runtime: 228.0000\n",
            "Epoch 10/10\n",
            "1407/1407 [==============================] - 6s 4ms/step - loss: 0.2358 - accuracy: 0.9109 - val_loss: 0.3270 - val_accuracy: 0.8860 - _timestamp: 1648272715.0000 - _runtime: 234.0000\n"
          ]
        }
      ]
    },
    {
      "cell_type": "markdown",
      "source": [
        "## Test"
      ],
      "metadata": {
        "id": "v58Dd7XRRHJ8"
      }
    },
    {
      "cell_type": "code",
      "source": [
        "model.evaluate(X_test, Y_test)"
      ],
      "metadata": {
        "id": "64eW3rWRQWEC",
        "colab": {
          "base_uri": "https://localhost:8080/"
        },
        "outputId": "a7044344-5bf6-4b7c-8ef2-44c0bacddf66"
      },
      "execution_count": null,
      "outputs": [
        {
          "output_type": "stream",
          "name": "stdout",
          "text": [
            "313/313 [==============================] - 1s 3ms/step - loss: 0.3545 - accuracy: 0.8806\n"
          ]
        },
        {
          "output_type": "execute_result",
          "data": {
            "text/plain": [
              "[0.354489266872406, 0.8805999755859375]"
            ]
          },
          "metadata": {},
          "execution_count": 14
        }
      ]
    },
    {
      "cell_type": "code",
      "source": [
        "plt.plot(model_history.history['accuracy'], label='accuracy')\n",
        "plt.plot(model_history.history['val_accuracy'], label = 'val_accuracy')\n",
        "plt.xlabel('Epoch')\n",
        "plt.ylabel('Accuracy')\n",
        "plt.title('Train')\n",
        "plt.ylim([0.5, 1])\n",
        "plt.legend(loc='lower right')\n"
      ],
      "metadata": {
        "colab": {
          "base_uri": "https://localhost:8080/",
          "height": 312
        },
        "id": "LSywYkc8qyPO",
        "outputId": "4ca729af-2b8f-4e1f-ebb6-6465954f4953"
      },
      "execution_count": null,
      "outputs": [
        {
          "output_type": "execute_result",
          "data": {
            "text/plain": [
              "<matplotlib.legend.Legend at 0x7f88eefbe250>"
            ]
          },
          "metadata": {},
          "execution_count": 15
        },
        {
          "output_type": "display_data",
          "data": {
            "text/plain": [
              "<Figure size 432x288 with 1 Axes>"
            ],
            "image/png": "[encoded data removed]"
          },
          "metadata": {
            "needs_background": "light"
          }
        }
      ]
    },
    {
      "cell_type": "code",
      "source": [
        "model.save('mlp-fashionMnist.h5')"
      ],
      "metadata": {
        "id": "iVYaYBQXoCCV"
      },
      "execution_count": null,
      "outputs": []
    },
    {
      "cell_type": "markdown",
      "source": [
        "## CNN Model"
      ],
      "metadata": {
        "id": "7IJNlmieayyo"
      }
    },
    {
      "cell_type": "code",
      "source": [
        "model = tf.keras.models.Sequential([\n",
        "      layers.Conv2D(64, (3, 3), input_shape=(28,28, 1), activation='relu'),\n",
        "      layers.MaxPooling2D(),\n",
        "      layers.Conv2D(32, (3, 3), activation='relu'),\n",
        "      layers.MaxPooling2D(),\n",
        "      layers.Conv2D(32, (5, 5), activation='relu'),\n",
        "      layers.Flatten(),\n",
        "      \n",
        "      Dense(32, activation='relu'),\n",
        "      Dense(10, activation='softmax')\n",
        "])\n"
      ],
      "metadata": {
        "id": "Q4hyAjyeapVq"
      },
      "execution_count": null,
      "outputs": []
    },
    {
      "cell_type": "code",
      "source": [
        "model.compile(optimizer= tf.keras.optimizers.Adam(learning_rate= config.learning_rate),\n",
        "              loss = tf.keras.losses.sparse_categorical_crossentropy,\n",
        "              metrics=['accuracy']\n",
        "              )\n"
      ],
      "metadata": {
        "id": "9xGeRzzDeMLU"
      },
      "execution_count": null,
      "outputs": []
    },
    {
      "cell_type": "code",
      "source": [
        "model_history = model.fit(X_train, Y_train, epochs=10, validation_data=(X_validation, Y_validation), callbacks=[WandbCallback()])"
      ],
      "metadata": {
        "id": "vLB6TAjGg2jm",
        "colab": {
          "base_uri": "https://localhost:8080/"
        },
        "outputId": "145b6b21-1c75-4f5e-ab88-8a25e1948768"
      },
      "execution_count": null,
      "outputs": [
        {
          "output_type": "stream",
          "name": "stdout",
          "text": [
            "Epoch 1/10\n",
            "1407/1407 [==============================] - 18s 7ms/step - loss: 0.5872 - accuracy: 0.7848 - val_loss: 0.4398 - val_accuracy: 0.8445 - _timestamp: 1648272734.0000 - _runtime: 253.0000\n",
            "Epoch 2/10\n",
            "1407/1407 [==============================] - 10s 7ms/step - loss: 0.3858 - accuracy: 0.8607 - val_loss: 0.3570 - val_accuracy: 0.8710 - _timestamp: 1648272744.0000 - _runtime: 263.0000\n",
            "Epoch 3/10\n",
            "1407/1407 [==============================] - 11s 8ms/step - loss: 0.3285 - accuracy: 0.8813 - val_loss: 0.3370 - val_accuracy: 0.8763 - _timestamp: 1648272756.0000 - _runtime: 275.0000\n",
            "Epoch 4/10\n",
            "1407/1407 [==============================] - 10s 7ms/step - loss: 0.2956 - accuracy: 0.8926 - val_loss: 0.3236 - val_accuracy: 0.8849 - _timestamp: 1648272766.0000 - _runtime: 285.0000\n",
            "Epoch 5/10\n",
            "1407/1407 [==============================] - 10s 7ms/step - loss: 0.2736 - accuracy: 0.8998 - val_loss: 0.3170 - val_accuracy: 0.8879 - _timestamp: 1648272776.0000 - _runtime: 295.0000\n",
            "Epoch 6/10\n",
            "1407/1407 [==============================] - 11s 8ms/step - loss: 0.2533 - accuracy: 0.9066 - val_loss: 0.2962 - val_accuracy: 0.8942 - _timestamp: 1648272787.0000 - _runtime: 306.0000\n",
            "Epoch 7/10\n",
            "1407/1407 [==============================] - 10s 7ms/step - loss: 0.2374 - accuracy: 0.9122 - val_loss: 0.2822 - val_accuracy: 0.9007 - _timestamp: 1648272797.0000 - _runtime: 316.0000\n",
            "Epoch 8/10\n",
            "1407/1407 [==============================] - 11s 8ms/step - loss: 0.2224 - accuracy: 0.9174 - val_loss: 0.2861 - val_accuracy: 0.9003 - _timestamp: 1648272809.0000 - _runtime: 328.0000\n",
            "Epoch 9/10\n",
            "1407/1407 [==============================] - 10s 7ms/step - loss: 0.2101 - accuracy: 0.9219 - val_loss: 0.2815 - val_accuracy: 0.9008 - _timestamp: 1648272819.0000 - _runtime: 338.0000\n",
            "Epoch 10/10\n",
            "1407/1407 [==============================] - 10s 7ms/step - loss: 0.1989 - accuracy: 0.9252 - val_loss: 0.2955 - val_accuracy: 0.8981 - _timestamp: 1648272829.0000 - _runtime: 348.0000\n"
          ]
        }
      ]
    },
    {
      "cell_type": "code",
      "source": [
        "test_loss, test_acc= model.evaluate(X_test, Y_test)"
      ],
      "metadata": {
        "id": "_8WjMahebYlI",
        "colab": {
          "base_uri": "https://localhost:8080/"
        },
        "outputId": "7846c7a9-2f99-4460-ec76-3ab095f55a9c"
      },
      "execution_count": null,
      "outputs": [
        {
          "output_type": "stream",
          "name": "stdout",
          "text": [
            "313/313 [==============================] - 1s 4ms/step - loss: 0.2959 - accuracy: 0.8935\n"
          ]
        }
      ]
    },
    {
      "cell_type": "code",
      "source": [
        "plt.plot(model_history.history['accuracy'], label='accuracy')\n",
        "plt.plot(model_history.history['val_accuracy'], label = 'val_accuracy')\n",
        "plt.xlabel('Epoch')\n",
        "plt.ylabel('Accuracy')\n",
        "plt.title('Train')\n",
        "plt.ylim([0.5, 1])\n",
        "plt.legend(loc='lower right')\n",
        "\n"
      ],
      "metadata": {
        "id": "yDRACOA_hkjh",
        "colab": {
          "base_uri": "https://localhost:8080/",
          "height": 312
        },
        "outputId": "c3e7de73-d5c6-40c3-d3dc-c3191af28b50"
      },
      "execution_count": null,
      "outputs": [
        {
          "output_type": "execute_result",
          "data": {
            "text/plain": [
              "<matplotlib.legend.Legend at 0x7f88ed916e50>"
            ]
          },
          "metadata": {},
          "execution_count": 21
        },
        {
          "output_type": "display_data",
          "data": {
            "text/plain": [
              "<Figure size 432x288 with 1 Axes>"
            ],
            "image/png": "[encoded data removed]"
          },
          "metadata": {
            "needs_background": "light"
          }
        }
      ]
    },
    {
      "cell_type": "code",
      "source": [
        "model.save('cnn-mlp-fashionMnist.h5')"
      ],
      "metadata": {
        "id": "gyTdQKlDbZOi"
      },
      "execution_count": null,
      "outputs": []
    }
  ]
}