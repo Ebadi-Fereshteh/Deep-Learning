{
  "nbformat": 4,
  "nbformat_minor": 0,
  "metadata": {
    "colab": {
      "name": "mnist-mlp-cnn",
      "provenance": [],
      "collapsed_sections": [],
      "authorship_tag": "ABX9TyO2zwK31MIGKHSXjFWp3Jn4",
      "include_colab_link": true
    },
    "kernelspec": {
      "name": "python3",
      "display_name": "Python 3"
    },
    "language_info": {
      "name": "python"
    },
    "accelerator": "GPU"
  },
  "cells": [
    {
      "cell_type": "markdown",
      "metadata": {
        "id": "view-in-github",
        "colab_type": "text"
      },
      "source": [
        "<a href=\"https://colab.research.google.com/github/Ebadi-Fereshteh/Deep-Learning/blob/main/Compare%20MLP%20vs%20CNN/mnist/mnist_mlp_cnn.ipynb\" target=\"_parent\"><img src=\"https://colab.research.google.com/assets/colab-badge.svg\" alt=\"Open In Colab\"/></a>"
      ]
    },
    {
      "cell_type": "code",
      "source": [
        "!pip install wandb"
      ],
      "metadata": {
        "id": "UouBwJRsJCGb"
      },
      "execution_count": null,
      "outputs": []
    },
    {
      "cell_type": "code",
      "execution_count": 2,
      "metadata": {
        "id": "lKGNuQLp9c_u"
      },
      "outputs": [],
      "source": [
        "import tensorflow as tf\n",
        "from tensorflow.keras.layers import Dense\n",
        "from tensorflow.keras import layers\n",
        "import matplotlib.pyplot as plt\n",
        "import wandb\n",
        "from wandb.keras import WandbCallback\n",
        "import numpy as np\n",
        "from sklearn.model_selection import train_test_split\n",
        "import cv2"
      ]
    },
    {
      "cell_type": "code",
      "source": [
        "wandb.init(project= \"MLP mnist\")"
      ],
      "metadata": {
        "id": "c1idUDL4OWG-"
      },
      "execution_count": null,
      "outputs": []
    },
    {
      "cell_type": "code",
      "source": [
        "config = wandb.config\n",
        "config.learning_rate = 0.01\n",
        "# learning_rate = 0.01"
      ],
      "metadata": {
        "id": "7-x0MfCMLAVI"
      },
      "execution_count": 4,
      "outputs": []
    },
    {
      "cell_type": "code",
      "source": [
        "(X_train, Y_train),(X_test, Y_test) = tf.keras.datasets.mnist.load_data()\n",
        "# Y_train.reshape(-1, 1)"
      ],
      "metadata": {
        "id": "n80xF38q_qAS",
        "colab": {
          "base_uri": "https://localhost:8080/"
        },
        "outputId": "03b0cacb-fc13-46eb-e794-ddc2c075e98b"
      },
      "execution_count": 5,
      "outputs": [
        {
          "output_type": "stream",
          "name": "stdout",
          "text": [
            "Downloading data from https://storage.googleapis.com/tensorflow/tf-keras-datasets/mnist.npz\n",
            "11493376/11490434 [==============================] - 0s 0us/step\n",
            "11501568/11490434 [==============================] - 0s 0us/step\n"
          ]
        }
      ]
    },
    {
      "cell_type": "code",
      "source": [
        "# Normalize pixel values to be between 0 and 1\n",
        "X_train, X_test = X_train / 255.0 , X_test / 255.0"
      ],
      "metadata": {
        "id": "fu80iGpPDaNo"
      },
      "execution_count": 6,
      "outputs": []
    },
    {
      "cell_type": "code",
      "source": [
        "X_train, X_validation, Y_train, Y_validation = train_test_split(X_train, Y_train, shuffle=True)"
      ],
      "metadata": {
        "id": "xHxzwNwVl7T9"
      },
      "execution_count": 7,
      "outputs": []
    },
    {
      "cell_type": "markdown",
      "source": [
        "### MLP Model"
      ],
      "metadata": {
        "id": "iaZFOK2eEE-a"
      }
    },
    {
      "cell_type": "code",
      "source": [
        "model = tf.keras.models.Sequential([\n",
        "       tf.keras.layers.Flatten(input_shape=(28, 28)),\n",
        "      #  Dense(128, activation=\"relu\"),\n",
        "       Dense(64, activation=\"relu\"),\n",
        "       Dense(32, activation=\"relu\"),\n",
        "       Dense(10, activation=\"softmax\")                                     \n",
        "])"
      ],
      "metadata": {
        "id": "DxqiU8oonddf"
      },
      "execution_count": 8,
      "outputs": []
    },
    {
      "cell_type": "code",
      "source": [
        "model.compile(optimizer= tf.keras.optimizers.Adam(learning_rate= config.learning_rate),\n",
        "              loss= tf.keras.losses.sparse_categorical_crossentropy,\n",
        "              metrics=['accuracy'])"
      ],
      "metadata": {
        "id": "vfgkyOg-FyrY"
      },
      "execution_count": 9,
      "outputs": []
    },
    {
      "cell_type": "markdown",
      "source": [
        "## Train"
      ],
      "metadata": {
        "id": "_eOD1cQgREcS"
      }
    },
    {
      "cell_type": "code",
      "source": [
        "model.fit(X_train, Y_train, epochs= 50, validation_data=(X_validation, Y_validation), callbacks=[WandbCallback()])"
      ],
      "metadata": {
        "id": "WKmy-FR_Iqko",
        "colab": {
          "base_uri": "https://localhost:8080/"
        },
        "outputId": "2d1c52f5-a9f7-46fc-ca20-cc1b8512f54d"
      },
      "execution_count": 10,
      "outputs": [
        {
          "output_type": "stream",
          "name": "stdout",
          "text": [
            "Epoch 1/50\n",
            "1407/1407 [==============================] - 8s 4ms/step - loss: 0.2880 - accuracy: 0.9134 - val_loss: 0.2611 - val_accuracy: 0.9256 - _timestamp: 1648371720.0000 - _runtime: 19.0000\n",
            "Epoch 2/50\n",
            "1407/1407 [==============================] - 6s 4ms/step - loss: 0.1853 - accuracy: 0.9465 - val_loss: 0.2038 - val_accuracy: 0.9411 - _timestamp: 1648371726.0000 - _runtime: 25.0000\n",
            "Epoch 3/50\n",
            "1407/1407 [==============================] - 6s 4ms/step - loss: 0.1603 - accuracy: 0.9554 - val_loss: 0.1736 - val_accuracy: 0.9507 - _timestamp: 1648371731.0000 - _runtime: 30.0000\n",
            "Epoch 4/50\n",
            "1407/1407 [==============================] - 6s 4ms/step - loss: 0.1461 - accuracy: 0.9586 - val_loss: 0.1652 - val_accuracy: 0.9567 - _timestamp: 1648371737.0000 - _runtime: 36.0000\n",
            "Epoch 5/50\n",
            "1407/1407 [==============================] - 6s 4ms/step - loss: 0.1372 - accuracy: 0.9619 - val_loss: 0.1536 - val_accuracy: 0.9601 - _timestamp: 1648371743.0000 - _runtime: 42.0000\n",
            "Epoch 6/50\n",
            "1407/1407 [==============================] - 6s 4ms/step - loss: 0.1290 - accuracy: 0.9646 - val_loss: 0.1481 - val_accuracy: 0.9635 - _timestamp: 1648371749.0000 - _runtime: 48.0000\n",
            "Epoch 7/50\n",
            "1407/1407 [==============================] - 6s 4ms/step - loss: 0.1225 - accuracy: 0.9674 - val_loss: 0.1874 - val_accuracy: 0.9581 - _timestamp: 1648371755.0000 - _runtime: 54.0000\n",
            "Epoch 8/50\n",
            "1407/1407 [==============================] - 5s 4ms/step - loss: 0.1193 - accuracy: 0.9679 - val_loss: 0.1848 - val_accuracy: 0.9561 - _timestamp: 1648371760.0000 - _runtime: 59.0000\n",
            "Epoch 9/50\n",
            "1407/1407 [==============================] - 5s 4ms/step - loss: 0.1112 - accuracy: 0.9708 - val_loss: 0.1693 - val_accuracy: 0.9623 - _timestamp: 1648371766.0000 - _runtime: 65.0000\n",
            "Epoch 10/50\n",
            "1407/1407 [==============================] - 6s 4ms/step - loss: 0.1072 - accuracy: 0.9714 - val_loss: 0.1574 - val_accuracy: 0.9637 - _timestamp: 1648371771.0000 - _runtime: 70.0000\n",
            "Epoch 11/50\n",
            "1407/1407 [==============================] - 5s 4ms/step - loss: 0.1046 - accuracy: 0.9730 - val_loss: 0.2042 - val_accuracy: 0.9576 - _timestamp: 1648371777.0000 - _runtime: 76.0000\n",
            "Epoch 12/50\n",
            "1407/1407 [==============================] - 6s 4ms/step - loss: 0.0990 - accuracy: 0.9740 - val_loss: 0.1973 - val_accuracy: 0.9583 - _timestamp: 1648371783.0000 - _runtime: 82.0000\n",
            "Epoch 13/50\n",
            "1407/1407 [==============================] - 5s 4ms/step - loss: 0.0917 - accuracy: 0.9771 - val_loss: 0.1806 - val_accuracy: 0.9641 - _timestamp: 1648371788.0000 - _runtime: 87.0000\n",
            "Epoch 14/50\n",
            "1407/1407 [==============================] - 6s 4ms/step - loss: 0.0917 - accuracy: 0.9765 - val_loss: 0.1794 - val_accuracy: 0.9629 - _timestamp: 1648371794.0000 - _runtime: 93.0000\n",
            "Epoch 15/50\n",
            "1407/1407 [==============================] - 6s 4ms/step - loss: 0.0965 - accuracy: 0.9754 - val_loss: 0.1888 - val_accuracy: 0.9643 - _timestamp: 1648371799.0000 - _runtime: 98.0000\n",
            "Epoch 16/50\n",
            "1407/1407 [==============================] - 6s 4ms/step - loss: 0.0858 - accuracy: 0.9782 - val_loss: 0.1809 - val_accuracy: 0.9661 - _timestamp: 1648371805.0000 - _runtime: 104.0000\n",
            "Epoch 17/50\n",
            "1407/1407 [==============================] - 6s 4ms/step - loss: 0.0850 - accuracy: 0.9787 - val_loss: 0.2165 - val_accuracy: 0.9631 - _timestamp: 1648371811.0000 - _runtime: 110.0000\n",
            "Epoch 18/50\n",
            "1407/1407 [==============================] - 6s 4ms/step - loss: 0.0833 - accuracy: 0.9792 - val_loss: 0.1990 - val_accuracy: 0.9653 - _timestamp: 1648371816.0000 - _runtime: 115.0000\n",
            "Epoch 19/50\n",
            "1407/1407 [==============================] - 6s 4ms/step - loss: 0.0859 - accuracy: 0.9788 - val_loss: 0.2422 - val_accuracy: 0.9602 - _timestamp: 1648371822.0000 - _runtime: 121.0000\n",
            "Epoch 20/50\n",
            "1407/1407 [==============================] - 6s 4ms/step - loss: 0.0940 - accuracy: 0.9775 - val_loss: 0.2181 - val_accuracy: 0.9580 - _timestamp: 1648371828.0000 - _runtime: 127.0000\n",
            "Epoch 21/50\n",
            "1407/1407 [==============================] - 6s 4ms/step - loss: 0.0869 - accuracy: 0.9791 - val_loss: 0.2396 - val_accuracy: 0.9577 - _timestamp: 1648371834.0000 - _runtime: 133.0000\n",
            "Epoch 22/50\n",
            "1407/1407 [==============================] - 6s 4ms/step - loss: 0.0763 - accuracy: 0.9809 - val_loss: 0.2739 - val_accuracy: 0.9629 - _timestamp: 1648371839.0000 - _runtime: 138.0000\n",
            "Epoch 23/50\n",
            "1407/1407 [==============================] - 6s 4ms/step - loss: 0.0873 - accuracy: 0.9785 - val_loss: 0.2235 - val_accuracy: 0.9641 - _timestamp: 1648371845.0000 - _runtime: 144.0000\n",
            "Epoch 24/50\n",
            "1407/1407 [==============================] - 6s 4ms/step - loss: 0.0812 - accuracy: 0.9798 - val_loss: 0.2664 - val_accuracy: 0.9616 - _timestamp: 1648371851.0000 - _runtime: 150.0000\n",
            "Epoch 25/50\n",
            "1407/1407 [==============================] - 6s 4ms/step - loss: 0.0840 - accuracy: 0.9802 - val_loss: 0.2373 - val_accuracy: 0.9649 - _timestamp: 1648371857.0000 - _runtime: 156.0000\n",
            "Epoch 26/50\n",
            "1407/1407 [==============================] - 6s 4ms/step - loss: 0.0846 - accuracy: 0.9804 - val_loss: 0.2549 - val_accuracy: 0.9563 - _timestamp: 1648371862.0000 - _runtime: 161.0000\n",
            "Epoch 27/50\n",
            "1407/1407 [==============================] - 6s 4ms/step - loss: 0.0796 - accuracy: 0.9820 - val_loss: 0.3483 - val_accuracy: 0.9592 - _timestamp: 1648371868.0000 - _runtime: 167.0000\n",
            "Epoch 28/50\n",
            "1407/1407 [==============================] - 6s 4ms/step - loss: 0.0837 - accuracy: 0.9814 - val_loss: 0.2650 - val_accuracy: 0.9652 - _timestamp: 1648371874.0000 - _runtime: 173.0000\n",
            "Epoch 29/50\n",
            "1407/1407 [==============================] - 6s 4ms/step - loss: 0.0782 - accuracy: 0.9815 - val_loss: 0.4290 - val_accuracy: 0.9523 - _timestamp: 1648371880.0000 - _runtime: 179.0000\n",
            "Epoch 30/50\n",
            "1407/1407 [==============================] - 6s 4ms/step - loss: 0.0797 - accuracy: 0.9817 - val_loss: 0.2453 - val_accuracy: 0.9617 - _timestamp: 1648371886.0000 - _runtime: 185.0000\n",
            "Epoch 31/50\n",
            "1407/1407 [==============================] - 6s 4ms/step - loss: 0.0849 - accuracy: 0.9814 - val_loss: 0.2483 - val_accuracy: 0.9598 - _timestamp: 1648371891.0000 - _runtime: 190.0000\n",
            "Epoch 32/50\n",
            "1407/1407 [==============================] - 5s 4ms/step - loss: 0.0685 - accuracy: 0.9836 - val_loss: 0.3050 - val_accuracy: 0.9612 - _timestamp: 1648371897.0000 - _runtime: 196.0000\n",
            "Epoch 33/50\n",
            "1407/1407 [==============================] - 6s 4ms/step - loss: 0.0875 - accuracy: 0.9801 - val_loss: 0.2489 - val_accuracy: 0.9605 - _timestamp: 1648371902.0000 - _runtime: 201.0000\n",
            "Epoch 34/50\n",
            "1407/1407 [==============================] - 5s 4ms/step - loss: 0.0739 - accuracy: 0.9824 - val_loss: 0.3160 - val_accuracy: 0.9665 - _timestamp: 1648371908.0000 - _runtime: 207.0000\n",
            "Epoch 35/50\n",
            "1407/1407 [==============================] - 6s 4ms/step - loss: 0.0836 - accuracy: 0.9798 - val_loss: 0.2959 - val_accuracy: 0.9587 - _timestamp: 1648371913.0000 - _runtime: 212.0000\n",
            "Epoch 36/50\n",
            "1407/1407 [==============================] - 6s 4ms/step - loss: 0.0840 - accuracy: 0.9808 - val_loss: 0.2707 - val_accuracy: 0.9593 - _timestamp: 1648371919.0000 - _runtime: 218.0000\n",
            "Epoch 37/50\n",
            "1407/1407 [==============================] - 6s 4ms/step - loss: 0.0858 - accuracy: 0.9810 - val_loss: 0.2629 - val_accuracy: 0.9678 - _timestamp: 1648371925.0000 - _runtime: 224.0000\n",
            "Epoch 38/50\n",
            "1407/1407 [==============================] - 6s 4ms/step - loss: 0.0745 - accuracy: 0.9828 - val_loss: 0.3684 - val_accuracy: 0.9614 - _timestamp: 1648371930.0000 - _runtime: 229.0000\n",
            "Epoch 39/50\n",
            "1407/1407 [==============================] - 6s 4ms/step - loss: 0.0907 - accuracy: 0.9804 - val_loss: 0.2746 - val_accuracy: 0.9582 - _timestamp: 1648371936.0000 - _runtime: 235.0000\n",
            "Epoch 40/50\n",
            "1407/1407 [==============================] - 5s 4ms/step - loss: 0.0691 - accuracy: 0.9830 - val_loss: 0.2857 - val_accuracy: 0.9630 - _timestamp: 1648371941.0000 - _runtime: 240.0000\n",
            "Epoch 41/50\n",
            "1407/1407 [==============================] - 6s 4ms/step - loss: 0.0686 - accuracy: 0.9838 - val_loss: 0.3633 - val_accuracy: 0.9621 - _timestamp: 1648371947.0000 - _runtime: 246.0000\n",
            "Epoch 42/50\n",
            "1407/1407 [==============================] - 6s 4ms/step - loss: 0.0786 - accuracy: 0.9828 - val_loss: 0.3382 - val_accuracy: 0.9646 - _timestamp: 1648371953.0000 - _runtime: 252.0000\n",
            "Epoch 43/50\n",
            "1407/1407 [==============================] - 6s 4ms/step - loss: 0.0690 - accuracy: 0.9841 - val_loss: 0.3607 - val_accuracy: 0.9649 - _timestamp: 1648371959.0000 - _runtime: 258.0000\n",
            "Epoch 44/50\n",
            "1407/1407 [==============================] - 5s 4ms/step - loss: 0.0766 - accuracy: 0.9820 - val_loss: 0.3317 - val_accuracy: 0.9592 - _timestamp: 1648371964.0000 - _runtime: 263.0000\n",
            "Epoch 45/50\n",
            "1407/1407 [==============================] - 6s 4ms/step - loss: 0.0832 - accuracy: 0.9817 - val_loss: 0.2868 - val_accuracy: 0.9601 - _timestamp: 1648371970.0000 - _runtime: 269.0000\n",
            "Epoch 46/50\n",
            "1407/1407 [==============================] - 5s 4ms/step - loss: 0.0795 - accuracy: 0.9830 - val_loss: 0.3928 - val_accuracy: 0.9561 - _timestamp: 1648371975.0000 - _runtime: 274.0000\n",
            "Epoch 47/50\n",
            "1407/1407 [==============================] - 6s 4ms/step - loss: 0.0731 - accuracy: 0.9832 - val_loss: 0.3196 - val_accuracy: 0.9613 - _timestamp: 1648371981.0000 - _runtime: 280.0000\n",
            "Epoch 48/50\n",
            "1407/1407 [==============================] - 6s 4ms/step - loss: 0.0753 - accuracy: 0.9830 - val_loss: 0.3252 - val_accuracy: 0.9611 - _timestamp: 1648371986.0000 - _runtime: 285.0000\n",
            "Epoch 49/50\n",
            "1407/1407 [==============================] - 6s 4ms/step - loss: 0.0774 - accuracy: 0.9815 - val_loss: 0.3537 - val_accuracy: 0.9564 - _timestamp: 1648371992.0000 - _runtime: 291.0000\n",
            "Epoch 50/50\n",
            "1407/1407 [==============================] - 6s 4ms/step - loss: 0.0730 - accuracy: 0.9834 - val_loss: 0.4241 - val_accuracy: 0.9579 - _timestamp: 1648371998.0000 - _runtime: 297.0000\n"
          ]
        },
        {
          "output_type": "execute_result",
          "data": {
            "text/plain": [
              "<keras.callbacks.History at 0x7f60500eee50>"
            ]
          },
          "metadata": {},
          "execution_count": 10
        }
      ]
    },
    {
      "cell_type": "markdown",
      "source": [
        "## Test"
      ],
      "metadata": {
        "id": "v58Dd7XRRHJ8"
      }
    },
    {
      "cell_type": "code",
      "source": [
        "model.evaluate(X_test, Y_test)"
      ],
      "metadata": {
        "id": "64eW3rWRQWEC",
        "colab": {
          "base_uri": "https://localhost:8080/"
        },
        "outputId": "4fbd2c98-d354-4aa2-8ced-dc64de372560"
      },
      "execution_count": 11,
      "outputs": [
        {
          "output_type": "stream",
          "name": "stdout",
          "text": [
            "313/313 [==============================] - 1s 3ms/step - loss: 0.5330 - accuracy: 0.9564\n"
          ]
        },
        {
          "output_type": "execute_result",
          "data": {
            "text/plain": [
              "[0.5330252647399902, 0.9563999772071838]"
            ]
          },
          "metadata": {},
          "execution_count": 11
        }
      ]
    },
    {
      "cell_type": "code",
      "source": [
        "model.save('mlp-mnist.h5')"
      ],
      "metadata": {
        "id": "iVYaYBQXoCCV"
      },
      "execution_count": 12,
      "outputs": []
    },
    {
      "cell_type": "markdown",
      "source": [
        "## CNN Model"
      ],
      "metadata": {
        "id": "7IJNlmieayyo"
      }
    },
    {
      "cell_type": "code",
      "source": [
        "model = tf.keras.models.Sequential([\n",
        "      layers.Conv2D(64, (3, 3), input_shape=(28,28, 1), activation='relu'),\n",
        "      layers.MaxPooling2D(),\n",
        "      layers.Conv2D(32, (3, 3), activation='relu'),\n",
        "      layers.MaxPooling2D(),\n",
        "      layers.Conv2D(32, (5, 5), activation='relu'),\n",
        "      layers.Flatten(),\n",
        "      \n",
        "      Dense(48, activation='relu'),\n",
        "      Dense(10, activation='softmax')\n",
        "])\n"
      ],
      "metadata": {
        "id": "Q4hyAjyeapVq"
      },
      "execution_count": 13,
      "outputs": []
    },
    {
      "cell_type": "code",
      "source": [
        "model.compile(optimizer= tf.keras.optimizers.Adam(learning_rate= config.learning_rate),\n",
        "              loss = tf.keras.losses.sparse_categorical_crossentropy,\n",
        "              metrics=['accuracy']\n",
        "              )\n"
      ],
      "metadata": {
        "id": "9xGeRzzDeMLU"
      },
      "execution_count": 14,
      "outputs": []
    },
    {
      "cell_type": "code",
      "source": [
        "model_history = model.fit(X_train, Y_train, epochs=10, validation_data=(X_validation, Y_validation), callbacks=[WandbCallback()])"
      ],
      "metadata": {
        "id": "vLB6TAjGg2jm",
        "colab": {
          "base_uri": "https://localhost:8080/"
        },
        "outputId": "68488e1a-fac9-4a19-c614-ca0409bbf11d"
      },
      "execution_count": 15,
      "outputs": [
        {
          "output_type": "stream",
          "name": "stdout",
          "text": [
            "Epoch 1/10\n",
            "1407/1407 [==============================] - 18s 8ms/step - loss: 0.1830 - accuracy: 0.9448 - val_loss: 0.1371 - val_accuracy: 0.9642 - _timestamp: 1648372017.0000 - _runtime: 316.0000\n",
            "Epoch 2/10\n",
            "1407/1407 [==============================] - 10s 7ms/step - loss: 0.1015 - accuracy: 0.9709 - val_loss: 0.1180 - val_accuracy: 0.9665 - _timestamp: 1648372027.0000 - _runtime: 326.0000\n",
            "Epoch 3/10\n",
            "1407/1407 [==============================] - 10s 7ms/step - loss: 0.0923 - accuracy: 0.9752 - val_loss: 0.1017 - val_accuracy: 0.9761 - _timestamp: 1648372037.0000 - _runtime: 336.0000\n",
            "Epoch 4/10\n",
            "1407/1407 [==============================] - 10s 7ms/step - loss: 0.0846 - accuracy: 0.9773 - val_loss: 0.0727 - val_accuracy: 0.9823 - _timestamp: 1648372048.0000 - _runtime: 347.0000\n",
            "Epoch 5/10\n",
            "1407/1407 [==============================] - 11s 8ms/step - loss: 0.0803 - accuracy: 0.9800 - val_loss: 0.1111 - val_accuracy: 0.9735 - _timestamp: 1648372059.0000 - _runtime: 358.0000\n",
            "Epoch 6/10\n",
            "1407/1407 [==============================] - 10s 7ms/step - loss: 0.0714 - accuracy: 0.9824 - val_loss: 0.1024 - val_accuracy: 0.9757 - _timestamp: 1648372069.0000 - _runtime: 368.0000\n",
            "Epoch 7/10\n",
            "1407/1407 [==============================] - 10s 7ms/step - loss: 0.0709 - accuracy: 0.9827 - val_loss: 0.0725 - val_accuracy: 0.9815 - _timestamp: 1648372079.0000 - _runtime: 378.0000\n",
            "Epoch 8/10\n",
            "1407/1407 [==============================] - 10s 7ms/step - loss: 0.0677 - accuracy: 0.9841 - val_loss: 0.0811 - val_accuracy: 0.9821 - _timestamp: 1648372089.0000 - _runtime: 388.0000\n",
            "Epoch 9/10\n",
            "1407/1407 [==============================] - 10s 7ms/step - loss: 0.0582 - accuracy: 0.9863 - val_loss: 0.1628 - val_accuracy: 0.9676 - _timestamp: 1648372100.0000 - _runtime: 399.0000\n",
            "Epoch 10/10\n",
            "1407/1407 [==============================] - 11s 8ms/step - loss: 0.0625 - accuracy: 0.9859 - val_loss: 0.0900 - val_accuracy: 0.9817 - _timestamp: 1648372111.0000 - _runtime: 410.0000\n"
          ]
        }
      ]
    },
    {
      "cell_type": "code",
      "source": [
        "test_loss, test_acc= model.evaluate(X_test, Y_test)"
      ],
      "metadata": {
        "colab": {
          "base_uri": "https://localhost:8080/"
        },
        "id": "_8WjMahebYlI",
        "outputId": "1efb856f-c4f2-45b4-c190-1517e30e4138"
      },
      "execution_count": 16,
      "outputs": [
        {
          "output_type": "stream",
          "name": "stdout",
          "text": [
            "313/313 [==============================] - 1s 4ms/step - loss: 0.0894 - accuracy: 0.9810\n"
          ]
        }
      ]
    },
    {
      "cell_type": "code",
      "source": [
        "plt.plot(model_history.history['accuracy'], label='accuracy')\n",
        "plt.plot(model_history.history['val_accuracy'], label = 'val_accuracy')\n",
        "plt.xlabel('Epoch')\n",
        "plt.ylabel('Accuracy')\n",
        "plt.title('Train')\n",
        "plt.ylim([0.9, 1])\n",
        "plt.legend(loc='lower right')\n",
        "\n"
      ],
      "metadata": {
        "colab": {
          "base_uri": "https://localhost:8080/",
          "height": 312
        },
        "id": "yDRACOA_hkjh",
        "outputId": "42812c03-31c1-4008-bd03-7f5aa0188ede"
      },
      "execution_count": 17,
      "outputs": [
        {
          "output_type": "execute_result",
          "data": {
            "text/plain": [
              "<matplotlib.legend.Legend at 0x7f5fd65bb8d0>"
            ]
          },
          "metadata": {},
          "execution_count": 17
        },
        {
          "output_type": "display_data",
          "data": {
            "text/plain": [
              "<Figure size 432x288 with 1 Axes>"
            ],
            "image/png": "[encoded data removed]"
          },
          "metadata": {
            "needs_background": "light"
          }
        }
      ]
    },
    {
      "cell_type": "code",
      "source": [
        "model.save('cnn-mlp-mnist.h5')"
      ],
      "metadata": {
        "id": "gyTdQKlDbZOi"
      },
      "execution_count": 18,
      "outputs": []
    }
  ]
}