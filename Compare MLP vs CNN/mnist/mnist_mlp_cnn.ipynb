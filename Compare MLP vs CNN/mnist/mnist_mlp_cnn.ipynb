{
  "nbformat": 4,
  "nbformat_minor": 0,
  "metadata": {
    "colab": {
      "name": "mnist-mlp-cnn",
      "provenance": [],
      "collapsed_sections": [
        "iaZFOK2eEE-a",
        "_eOD1cQgREcS"
      ],
      "authorship_tag": "ABX9TyO2zwK31MIGKHSXjFWp3Jn4",
      "include_colab_link": true
    },
    "kernelspec": {
      "name": "python3",
      "display_name": "Python 3"
    },
    "language_info": {
      "name": "python"
    },
    "accelerator": "GPU"
  },
  "cells": [
    {
      "cell_type": "markdown",
      "metadata": {
        "id": "view-in-github",
        "colab_type": "text"
      },
      "source": [
        "<a href=\"https://colab.research.google.com/github/Ebadi-Fereshteh/Deep-Learning/blob/main/Compare%20MLP%20vs%20CNN/mnist/mnist_mlp_cnn.ipynb\" target=\"_parent\"><img src=\"https://colab.research.google.com/assets/colab-badge.svg\" alt=\"Open In Colab\"/></a>"
      ]
    },
    {
      "cell_type": "code",
      "source": [
        "!pip install wandb"
      ],
      "metadata": {
        "id": "UouBwJRsJCGb"
      },
      "execution_count": null,
      "outputs": []
    },
    {
      "cell_type": "code",
      "execution_count": null,
      "metadata": {
        "id": "lKGNuQLp9c_u"
      },
      "outputs": [],
      "source": [
        "import tensorflow as tf\n",
        "from tensorflow.keras.layers import Dense\n",
        "from tensorflow.keras import layers\n",
        "import matplotlib.pyplot as plt\n",
        "import wandb\n",
        "from wandb.keras import WandbCallback\n",
        "import numpy as np\n",
        "from sklearn.model_selection import train_test_split\n",
        "import cv2"
      ]
    },
    {
      "cell_type": "code",
      "source": [
        "wandb.init(project= \"MLP mnist\")"
      ],
      "metadata": {
        "id": "c1idUDL4OWG-"
      },
      "execution_count": null,
      "outputs": []
    },
    {
      "cell_type": "code",
      "source": [
        "config = wandb.config\n",
        "config.learning_rate = 0.01\n",
        "# learning_rate = 0.01"
      ],
      "metadata": {
        "id": "7-x0MfCMLAVI"
      },
      "execution_count": null,
      "outputs": []
    },
    {
      "cell_type": "code",
      "source": [
        "(X_train, Y_train),(X_test, Y_test) = tf.keras.datasets.mnist.load_data()\n",
        "# Y_train.reshape(-1, 1)"
      ],
      "metadata": {
        "id": "n80xF38q_qAS"
      },
      "execution_count": null,
      "outputs": []
    },
    {
      "cell_type": "code",
      "source": [
        "# Normalize pixel values to be between 0 and 1\n",
        "X_train, X_test = X_train / 255.0 , X_test / 255.0"
      ],
      "metadata": {
        "id": "fu80iGpPDaNo"
      },
      "execution_count": null,
      "outputs": []
    },
    {
      "cell_type": "code",
      "source": [
        "X_train, X_validation, Y_train, Y_validation = train_test_split(X_train, Y_train, shuffle=True)"
      ],
      "metadata": {
        "id": "xHxzwNwVl7T9"
      },
      "execution_count": null,
      "outputs": []
    },
    {
      "cell_type": "markdown",
      "source": [
        "### MLP Model"
      ],
      "metadata": {
        "id": "iaZFOK2eEE-a"
      }
    },
    {
      "cell_type": "code",
      "source": [
        "model = tf.keras.models.Sequential([\n",
        "       tf.keras.layers.Flatten(input_shape=(28, 28)),\n",
        "      #  Dense(128, activation=\"relu\"),\n",
        "       Dense(64, activation=\"relu\"),\n",
        "       Dense(32, activation=\"relu\"),\n",
        "       Dense(10, activation=\"softmax\")                                     \n",
        "])"
      ],
      "metadata": {
        "id": "DxqiU8oonddf"
      },
      "execution_count": null,
      "outputs": []
    },
    {
      "cell_type": "code",
      "source": [
        "model.compile(optimizer= tf.keras.optimizers.Adam(learning_rate= config.learning_rate),\n",
        "              loss= tf.keras.losses.sparse_categorical_crossentropy,\n",
        "              metrics=['accuracy'])"
      ],
      "metadata": {
        "id": "vfgkyOg-FyrY"
      },
      "execution_count": null,
      "outputs": []
    },
    {
      "cell_type": "markdown",
      "source": [
        "## Train"
      ],
      "metadata": {
        "id": "_eOD1cQgREcS"
      }
    },
    {
      "cell_type": "code",
      "source": [
        "model.fit(X_train, Y_train, epochs= 50, validation_data=(X_validation, Y_validation), callbacks=[WandbCallback()])"
      ],
      "metadata": {
        "id": "WKmy-FR_Iqko",
        "colab": {
          "base_uri": "https://localhost:8080/"
        },
        "outputId": "d4260eaa-8dd6-4c34-e0a9-23392e6466e9"
      },
      "execution_count": null,
      "outputs": [
        {
          "output_type": "stream",
          "name": "stdout",
          "text": [
            "Epoch 1/50\n",
            "1407/1407 [==============================] - 4s 2ms/step - loss: 0.3095 - accuracy: 0.9103 - val_loss: 0.1859 - val_accuracy: 0.9485 - _timestamp: 1647175641.0000 - _runtime: 8612.0000\n",
            "Epoch 2/50\n",
            "1407/1407 [==============================] - 3s 2ms/step - loss: 0.1913 - accuracy: 0.9492 - val_loss: 0.2277 - val_accuracy: 0.9427 - _timestamp: 1647175644.0000 - _runtime: 8615.0000\n",
            "Epoch 3/50\n",
            "1407/1407 [==============================] - 3s 2ms/step - loss: 0.1641 - accuracy: 0.9573 - val_loss: 0.1738 - val_accuracy: 0.9552 - _timestamp: 1647175647.0000 - _runtime: 8618.0000\n",
            "Epoch 4/50\n",
            "1407/1407 [==============================] - 3s 2ms/step - loss: 0.1397 - accuracy: 0.9646 - val_loss: 0.2204 - val_accuracy: 0.9479 - _timestamp: 1647175650.0000 - _runtime: 8621.0000\n",
            "Epoch 5/50\n",
            "1407/1407 [==============================] - 3s 2ms/step - loss: 0.1315 - accuracy: 0.9676 - val_loss: 0.1923 - val_accuracy: 0.9546 - _timestamp: 1647175653.0000 - _runtime: 8624.0000\n",
            "Epoch 6/50\n",
            "1407/1407 [==============================] - 3s 2ms/step - loss: 0.1206 - accuracy: 0.9706 - val_loss: 0.1982 - val_accuracy: 0.9581 - _timestamp: 1647175656.0000 - _runtime: 8627.0000\n",
            "Epoch 7/50\n",
            "1407/1407 [==============================] - 3s 2ms/step - loss: 0.1280 - accuracy: 0.9693 - val_loss: 0.1821 - val_accuracy: 0.9591 - _timestamp: 1647175659.0000 - _runtime: 8630.0000\n",
            "Epoch 8/50\n",
            "1407/1407 [==============================] - 3s 2ms/step - loss: 0.1074 - accuracy: 0.9740 - val_loss: 0.1872 - val_accuracy: 0.9631 - _timestamp: 1647175662.0000 - _runtime: 8633.0000\n",
            "Epoch 9/50\n",
            "1407/1407 [==============================] - 3s 2ms/step - loss: 0.1106 - accuracy: 0.9740 - val_loss: 0.1964 - val_accuracy: 0.9575 - _timestamp: 1647175665.0000 - _runtime: 8636.0000\n",
            "Epoch 10/50\n",
            "1407/1407 [==============================] - 3s 2ms/step - loss: 0.1108 - accuracy: 0.9746 - val_loss: 0.1785 - val_accuracy: 0.9626 - _timestamp: 1647175668.0000 - _runtime: 8639.0000\n",
            "Epoch 11/50\n",
            "1407/1407 [==============================] - 3s 2ms/step - loss: 0.0925 - accuracy: 0.9780 - val_loss: 0.2611 - val_accuracy: 0.9535 - _timestamp: 1647175671.0000 - _runtime: 8642.0000\n",
            "Epoch 12/50\n",
            "1407/1407 [==============================] - 3s 2ms/step - loss: 0.0957 - accuracy: 0.9788 - val_loss: 0.2131 - val_accuracy: 0.9579 - _timestamp: 1647175674.0000 - _runtime: 8645.0000\n",
            "Epoch 13/50\n",
            "1407/1407 [==============================] - 3s 2ms/step - loss: 0.1000 - accuracy: 0.9770 - val_loss: 0.2160 - val_accuracy: 0.9648 - _timestamp: 1647175677.0000 - _runtime: 8648.0000\n",
            "Epoch 14/50\n",
            "1407/1407 [==============================] - 3s 2ms/step - loss: 0.0872 - accuracy: 0.9799 - val_loss: 0.1856 - val_accuracy: 0.9650 - _timestamp: 1647175680.0000 - _runtime: 8651.0000\n",
            "Epoch 15/50\n",
            "1407/1407 [==============================] - 3s 2ms/step - loss: 0.0836 - accuracy: 0.9812 - val_loss: 0.2157 - val_accuracy: 0.9610 - _timestamp: 1647175683.0000 - _runtime: 8654.0000\n",
            "Epoch 16/50\n",
            "1407/1407 [==============================] - 3s 2ms/step - loss: 0.0842 - accuracy: 0.9814 - val_loss: 0.2085 - val_accuracy: 0.9606 - _timestamp: 1647175686.0000 - _runtime: 8657.0000\n",
            "Epoch 17/50\n",
            "1407/1407 [==============================] - 3s 2ms/step - loss: 0.0806 - accuracy: 0.9816 - val_loss: 0.2102 - val_accuracy: 0.9675 - _timestamp: 1647175689.0000 - _runtime: 8660.0000\n",
            "Epoch 18/50\n",
            "1407/1407 [==============================] - 3s 2ms/step - loss: 0.0867 - accuracy: 0.9810 - val_loss: 0.2143 - val_accuracy: 0.9643 - _timestamp: 1647175692.0000 - _runtime: 8663.0000\n",
            "Epoch 19/50\n",
            "1407/1407 [==============================] - 3s 2ms/step - loss: 0.0773 - accuracy: 0.9827 - val_loss: 0.2028 - val_accuracy: 0.9684 - _timestamp: 1647175695.0000 - _runtime: 8666.0000\n",
            "Epoch 20/50\n",
            "1407/1407 [==============================] - 3s 2ms/step - loss: 0.0724 - accuracy: 0.9834 - val_loss: 0.2350 - val_accuracy: 0.9659 - _timestamp: 1647175698.0000 - _runtime: 8669.0000\n",
            "Epoch 21/50\n",
            "1407/1407 [==============================] - 3s 2ms/step - loss: 0.0874 - accuracy: 0.9801 - val_loss: 0.2783 - val_accuracy: 0.9665 - _timestamp: 1647175701.0000 - _runtime: 8672.0000\n",
            "Epoch 22/50\n",
            "1407/1407 [==============================] - 3s 2ms/step - loss: 0.0886 - accuracy: 0.9815 - val_loss: 0.2135 - val_accuracy: 0.9650 - _timestamp: 1647175705.0000 - _runtime: 8676.0000\n",
            "Epoch 23/50\n",
            "1407/1407 [==============================] - 3s 2ms/step - loss: 0.0698 - accuracy: 0.9839 - val_loss: 0.2213 - val_accuracy: 0.9639 - _timestamp: 1647175708.0000 - _runtime: 8679.0000\n",
            "Epoch 24/50\n",
            "1407/1407 [==============================] - 3s 2ms/step - loss: 0.0731 - accuracy: 0.9835 - val_loss: 0.2242 - val_accuracy: 0.9665 - _timestamp: 1647175711.0000 - _runtime: 8682.0000\n",
            "Epoch 25/50\n",
            "1407/1407 [==============================] - 3s 2ms/step - loss: 0.0674 - accuracy: 0.9850 - val_loss: 0.2153 - val_accuracy: 0.9665 - _timestamp: 1647175714.0000 - _runtime: 8685.0000\n",
            "Epoch 26/50\n",
            "1407/1407 [==============================] - 3s 2ms/step - loss: 0.0639 - accuracy: 0.9861 - val_loss: 0.3457 - val_accuracy: 0.9651 - _timestamp: 1647175717.0000 - _runtime: 8688.0000\n",
            "Epoch 27/50\n",
            "1407/1407 [==============================] - 3s 2ms/step - loss: 0.0759 - accuracy: 0.9838 - val_loss: 0.3060 - val_accuracy: 0.9652 - _timestamp: 1647175720.0000 - _runtime: 8691.0000\n",
            "Epoch 28/50\n",
            "1407/1407 [==============================] - 3s 2ms/step - loss: 0.0744 - accuracy: 0.9835 - val_loss: 0.2284 - val_accuracy: 0.9642 - _timestamp: 1647175723.0000 - _runtime: 8694.0000\n",
            "Epoch 29/50\n",
            "1407/1407 [==============================] - 3s 2ms/step - loss: 0.0696 - accuracy: 0.9848 - val_loss: 0.2694 - val_accuracy: 0.9689 - _timestamp: 1647175726.0000 - _runtime: 8697.0000\n",
            "Epoch 30/50\n",
            "1407/1407 [==============================] - 3s 2ms/step - loss: 0.0769 - accuracy: 0.9852 - val_loss: 0.2267 - val_accuracy: 0.9653 - _timestamp: 1647175729.0000 - _runtime: 8700.0000\n",
            "Epoch 31/50\n",
            "1407/1407 [==============================] - 3s 2ms/step - loss: 0.0596 - accuracy: 0.9869 - val_loss: 0.3010 - val_accuracy: 0.9647 - _timestamp: 1647175733.0000 - _runtime: 8704.0000\n",
            "Epoch 32/50\n",
            "1407/1407 [==============================] - 3s 2ms/step - loss: 0.0758 - accuracy: 0.9846 - val_loss: 0.2381 - val_accuracy: 0.9671 - _timestamp: 1647175736.0000 - _runtime: 8707.0000\n",
            "Epoch 33/50\n",
            "1407/1407 [==============================] - 3s 2ms/step - loss: 0.0508 - accuracy: 0.9875 - val_loss: 0.2598 - val_accuracy: 0.9617 - _timestamp: 1647175739.0000 - _runtime: 8710.0000\n",
            "Epoch 34/50\n",
            "1407/1407 [==============================] - 3s 2ms/step - loss: 0.0590 - accuracy: 0.9859 - val_loss: 0.3312 - val_accuracy: 0.9588 - _timestamp: 1647175742.0000 - _runtime: 8713.0000\n",
            "Epoch 35/50\n",
            "1407/1407 [==============================] - 3s 2ms/step - loss: 0.0684 - accuracy: 0.9859 - val_loss: 0.2301 - val_accuracy: 0.9669 - _timestamp: 1647175746.0000 - _runtime: 8717.0000\n",
            "Epoch 36/50\n",
            "1407/1407 [==============================] - 3s 2ms/step - loss: 0.0596 - accuracy: 0.9870 - val_loss: 0.2920 - val_accuracy: 0.9626 - _timestamp: 1647175749.0000 - _runtime: 8720.0000\n",
            "Epoch 37/50\n",
            "1407/1407 [==============================] - 3s 2ms/step - loss: 0.0629 - accuracy: 0.9863 - val_loss: 0.3811 - val_accuracy: 0.9569 - _timestamp: 1647175752.0000 - _runtime: 8723.0000\n",
            "Epoch 38/50\n",
            "1407/1407 [==============================] - 3s 2ms/step - loss: 0.0646 - accuracy: 0.9868 - val_loss: 0.6497 - val_accuracy: 0.9577 - _timestamp: 1647175755.0000 - _runtime: 8726.0000\n",
            "Epoch 39/50\n",
            "1407/1407 [==============================] - 3s 2ms/step - loss: 0.0609 - accuracy: 0.9864 - val_loss: 0.3058 - val_accuracy: 0.9692 - _timestamp: 1647175758.0000 - _runtime: 8729.0000\n",
            "Epoch 40/50\n",
            "1407/1407 [==============================] - 3s 2ms/step - loss: 0.0625 - accuracy: 0.9869 - val_loss: 0.3333 - val_accuracy: 0.9639 - _timestamp: 1647175761.0000 - _runtime: 8732.0000\n",
            "Epoch 41/50\n",
            "1407/1407 [==============================] - 3s 2ms/step - loss: 0.0617 - accuracy: 0.9864 - val_loss: 0.3469 - val_accuracy: 0.9649 - _timestamp: 1647175764.0000 - _runtime: 8735.0000\n",
            "Epoch 42/50\n",
            "1407/1407 [==============================] - 3s 2ms/step - loss: 0.0610 - accuracy: 0.9866 - val_loss: 0.3370 - val_accuracy: 0.9627 - _timestamp: 1647175767.0000 - _runtime: 8738.0000\n",
            "Epoch 43/50\n",
            "1407/1407 [==============================] - 3s 2ms/step - loss: 0.0603 - accuracy: 0.9863 - val_loss: 0.2789 - val_accuracy: 0.9618 - _timestamp: 1647175770.0000 - _runtime: 8741.0000\n",
            "Epoch 44/50\n",
            "1407/1407 [==============================] - 3s 2ms/step - loss: 0.0580 - accuracy: 0.9861 - val_loss: 0.3288 - val_accuracy: 0.9617 - _timestamp: 1647175773.0000 - _runtime: 8744.0000\n",
            "Epoch 45/50\n",
            "1407/1407 [==============================] - 3s 2ms/step - loss: 0.0511 - accuracy: 0.9881 - val_loss: 0.2798 - val_accuracy: 0.9686 - _timestamp: 1647175776.0000 - _runtime: 8747.0000\n",
            "Epoch 46/50\n",
            "1407/1407 [==============================] - 3s 2ms/step - loss: 0.0589 - accuracy: 0.9877 - val_loss: 0.8402 - val_accuracy: 0.9536 - _timestamp: 1647175779.0000 - _runtime: 8750.0000\n",
            "Epoch 47/50\n",
            "1407/1407 [==============================] - 3s 2ms/step - loss: 0.0790 - accuracy: 0.9855 - val_loss: 0.3274 - val_accuracy: 0.9670 - _timestamp: 1647175783.0000 - _runtime: 8754.0000\n",
            "Epoch 48/50\n",
            "1407/1407 [==============================] - 3s 2ms/step - loss: 0.0492 - accuracy: 0.9898 - val_loss: 0.2994 - val_accuracy: 0.9660 - _timestamp: 1647175786.0000 - _runtime: 8757.0000\n",
            "Epoch 49/50\n",
            "1407/1407 [==============================] - 3s 2ms/step - loss: 0.0498 - accuracy: 0.9891 - val_loss: 0.2940 - val_accuracy: 0.9618 - _timestamp: 1647175789.0000 - _runtime: 8760.0000\n",
            "Epoch 50/50\n",
            "1407/1407 [==============================] - 3s 2ms/step - loss: 0.0697 - accuracy: 0.9864 - val_loss: 0.3960 - val_accuracy: 0.9575 - _timestamp: 1647175792.0000 - _runtime: 8763.0000\n"
          ]
        },
        {
          "output_type": "execute_result",
          "data": {
            "text/plain": [
              "<keras.callbacks.History at 0x7fadbab3ed10>"
            ]
          },
          "metadata": {},
          "execution_count": 64
        }
      ]
    },
    {
      "cell_type": "markdown",
      "source": [
        "## Test"
      ],
      "metadata": {
        "id": "v58Dd7XRRHJ8"
      }
    },
    {
      "cell_type": "code",
      "source": [
        "model.evaluate(X_test, Y_test)"
      ],
      "metadata": {
        "id": "64eW3rWRQWEC",
        "colab": {
          "base_uri": "https://localhost:8080/"
        },
        "outputId": "510ff0c9-42a3-4616-eae4-ede57db3204d"
      },
      "execution_count": null,
      "outputs": [
        {
          "output_type": "stream",
          "name": "stdout",
          "text": [
            "313/313 [==============================] - 0s 1ms/step - loss: 0.5597 - accuracy: 0.9592\n"
          ]
        },
        {
          "output_type": "execute_result",
          "data": {
            "text/plain": [
              "[0.5597330331802368, 0.9592000246047974]"
            ]
          },
          "metadata": {},
          "execution_count": 65
        }
      ]
    },
    {
      "cell_type": "code",
      "source": [
        "model.save('mlp-mnist.h5')"
      ],
      "metadata": {
        "id": "iVYaYBQXoCCV"
      },
      "execution_count": null,
      "outputs": []
    },
    {
      "cell_type": "markdown",
      "source": [
        "## CNN Model"
      ],
      "metadata": {
        "id": "7IJNlmieayyo"
      }
    },
    {
      "cell_type": "code",
      "source": [
        "model = tf.keras.models.Sequential([\n",
        "      layers.Conv2D(64, (3, 3), input_shape=(28,28, 1), activation='relu'),\n",
        "      layers.MaxPooling2D(),\n",
        "      layers.Conv2D(32, (3, 3), activation='relu'),\n",
        "      layers.MaxPooling2D(),\n",
        "      layers.Conv2D(32, (5, 5), activation='relu'),\n",
        "      layers.Flatten(),\n",
        "      \n",
        "      Dense(48, activation='relu'),\n",
        "      Dense(10, activation='softmax')\n",
        "])\n"
      ],
      "metadata": {
        "id": "Q4hyAjyeapVq"
      },
      "execution_count": null,
      "outputs": []
    },
    {
      "cell_type": "code",
      "source": [
        "model.compile(optimizer= tf.keras.optimizers.Adam(learning_rate= config.learning_rate),\n",
        "              loss = tf.keras.losses.sparse_categorical_crossentropy,\n",
        "              metrics=['accuracy']\n",
        "              )\n"
      ],
      "metadata": {
        "id": "9xGeRzzDeMLU"
      },
      "execution_count": null,
      "outputs": []
    },
    {
      "cell_type": "code",
      "source": [
        "model_history = model.fit(X_train, Y_train, epochs=10, validation_data=(X_validation, Y_validation), callbacks=[WandbCallback()])"
      ],
      "metadata": {
        "id": "vLB6TAjGg2jm",
        "colab": {
          "base_uri": "https://localhost:8080/"
        },
        "outputId": "2de41f26-29d4-4e40-e515-eee9c5e2574e"
      },
      "execution_count": null,
      "outputs": [
        {
          "output_type": "stream",
          "name": "stdout",
          "text": [
            "Epoch 1/10\n",
            "1407/1407 [==============================] - 6s 4ms/step - loss: 0.1968 - accuracy: 0.9409 - val_loss: 0.0972 - val_accuracy: 0.9729 - _timestamp: 1648272248.0000 - _runtime: 2687.0000\n",
            "Epoch 2/10\n",
            "1407/1407 [==============================] - 6s 4ms/step - loss: 0.1055 - accuracy: 0.9707 - val_loss: 0.1215 - val_accuracy: 0.9676 - _timestamp: 1648272254.0000 - _runtime: 2693.0000\n",
            "Epoch 3/10\n",
            "1407/1407 [==============================] - 6s 4ms/step - loss: 0.0958 - accuracy: 0.9748 - val_loss: 0.1688 - val_accuracy: 0.9589 - _timestamp: 1648272261.0000 - _runtime: 2700.0000\n",
            "Epoch 4/10\n",
            "1407/1407 [==============================] - 6s 4ms/step - loss: 0.0905 - accuracy: 0.9766 - val_loss: 0.0875 - val_accuracy: 0.9780 - _timestamp: 1648272267.0000 - _runtime: 2706.0000\n",
            "Epoch 5/10\n",
            "1407/1407 [==============================] - 6s 4ms/step - loss: 0.0803 - accuracy: 0.9797 - val_loss: 0.0834 - val_accuracy: 0.9795 - _timestamp: 1648272272.0000 - _runtime: 2711.0000\n",
            "Epoch 6/10\n",
            "1407/1407 [==============================] - 6s 4ms/step - loss: 0.0779 - accuracy: 0.9811 - val_loss: 0.0884 - val_accuracy: 0.9821 - _timestamp: 1648272278.0000 - _runtime: 2717.0000\n",
            "Epoch 7/10\n",
            "1407/1407 [==============================] - 6s 4ms/step - loss: 0.0756 - accuracy: 0.9809 - val_loss: 0.0916 - val_accuracy: 0.9768 - _timestamp: 1648272284.0000 - _runtime: 2723.0000\n",
            "Epoch 8/10\n",
            "1407/1407 [==============================] - 6s 4ms/step - loss: 0.0676 - accuracy: 0.9831 - val_loss: 0.0957 - val_accuracy: 0.9809 - _timestamp: 1648272290.0000 - _runtime: 2729.0000\n",
            "Epoch 9/10\n",
            "1407/1407 [==============================] - 6s 4ms/step - loss: 0.0643 - accuracy: 0.9849 - val_loss: 0.1107 - val_accuracy: 0.9781 - _timestamp: 1648272296.0000 - _runtime: 2735.0000\n",
            "Epoch 10/10\n",
            "1407/1407 [==============================] - 6s 4ms/step - loss: 0.0693 - accuracy: 0.9843 - val_loss: 0.1167 - val_accuracy: 0.9810 - _timestamp: 1648272302.0000 - _runtime: 2741.0000\n"
          ]
        }
      ]
    },
    {
      "cell_type": "code",
      "source": [
        "test_loss, test_acc= model.evaluate(X_test, Y_test)"
      ],
      "metadata": {
        "colab": {
          "base_uri": "https://localhost:8080/"
        },
        "id": "_8WjMahebYlI",
        "outputId": "d0f5611d-4d4d-4dd8-e8e7-370068949111"
      },
      "execution_count": null,
      "outputs": [
        {
          "output_type": "stream",
          "name": "stdout",
          "text": [
            "313/313 [==============================] - 1s 3ms/step - loss: 0.1420 - accuracy: 0.9801\n"
          ]
        }
      ]
    },
    {
      "cell_type": "code",
      "source": [
        "plt.plot(model_history.history['accuracy'], label='accuracy')\n",
        "plt.plot(model_history.history['val_accuracy'], label = 'val_accuracy')\n",
        "plt.xlabel('Epoch')\n",
        "plt.ylabel('Accuracy')\n",
        "plt.title('Train')\n",
        "plt.ylim([0.9, 1])\n",
        "plt.legend(loc='lower right')\n",
        "\n"
      ],
      "metadata": {
        "colab": {
          "base_uri": "https://localhost:8080/",
          "height": 312
        },
        "id": "yDRACOA_hkjh",
        "outputId": "01473a26-fd70-4590-8ec5-4b0d2151ec09"
      },
      "execution_count": null,
      "outputs": [
        {
          "output_type": "execute_result",
          "data": {
            "text/plain": [
              "<matplotlib.legend.Legend at 0x7f7717a7a350>"
            ]
          },
          "metadata": {},
          "execution_count": 111
        },
        {
          "output_type": "display_data",
          "data": {
            "text/plain": [
              "<Figure size 432x288 with 1 Axes>"
            ],
            "image/png": "[encoded data removed]"
          },
          "metadata": {
            "needs_background": "light"
          }
        }
      ]
    },
    {
      "cell_type": "code",
      "source": [
        "model.save('cnn-mlp-mnist.h5')"
      ],
      "metadata": {
        "id": "gyTdQKlDbZOi"
      },
      "execution_count": null,
      "outputs": []
    }
  ]
}