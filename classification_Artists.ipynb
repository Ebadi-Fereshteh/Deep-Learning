{
  "nbformat": 4,
  "nbformat_minor": 0,
  "metadata": {
    "colab": {
      "name": "classification_Artists.ipynb",
      "provenance": [],
      "collapsed_sections": [],
      "mount_file_id": "1tCxDZZX7OPTJlGmFIt8V0l4G0zK1RClG",
      "authorship_tag": "ABX9TyMSKhEdVdaD/R7mNh2nmkaw",
      "include_colab_link": true
    },
    "kernelspec": {
      "name": "python3",
      "display_name": "Python 3"
    },
    "language_info": {
      "name": "python"
    },
    "widgets": {
      "application/vnd.jupyter.widget-state+json": {
        "54f647ff5be146bc902f6fa9c8a0d66f": {
          "model_module": "@jupyter-widgets/controls",
          "model_name": "VBoxModel",
          "model_module_version": "1.5.0",
          "state": {
            "_dom_classes": [],
            "_model_module": "@jupyter-widgets/controls",
            "_model_module_version": "1.5.0",
            "_model_name": "VBoxModel",
            "_view_count": null,
            "_view_module": "@jupyter-widgets/controls",
            "_view_module_version": "1.5.0",
            "_view_name": "VBoxView",
            "box_style": "",
            "children": [
              "IPY_MODEL_c37c44419f6448b3b5caa3d3002141af",
              "IPY_MODEL_6ecb44d0573642eea24f46acf4acb336"
            ],
            "layout": "IPY_MODEL_af7cf01b0a224b61a80ec764eb1006f7"
          }
        },
        "c37c44419f6448b3b5caa3d3002141af": {
          "model_module": "@jupyter-widgets/controls",
          "model_name": "LabelModel",
          "model_module_version": "1.5.0",
          "state": {
            "_dom_classes": [],
            "_model_module": "@jupyter-widgets/controls",
            "_model_module_version": "1.5.0",
            "_model_name": "LabelModel",
            "_view_count": null,
            "_view_module": "@jupyter-widgets/controls",
            "_view_module_version": "1.5.0",
            "_view_name": "LabelView",
            "description": "",
            "description_tooltip": null,
            "layout": "IPY_MODEL_a0ce757c092a40fd91b089e7c5153c8e",
            "placeholder": "​",
            "style": "IPY_MODEL_400427938f664165aa01d3e78516adb8",
            "value": "0.017 MB of 0.017 MB uploaded (0.000 MB deduped)\r"
          }
        },
        "6ecb44d0573642eea24f46acf4acb336": {
          "model_module": "@jupyter-widgets/controls",
          "model_name": "FloatProgressModel",
          "model_module_version": "1.5.0",
          "state": {
            "_dom_classes": [],
            "_model_module": "@jupyter-widgets/controls",
            "_model_module_version": "1.5.0",
            "_model_name": "FloatProgressModel",
            "_view_count": null,
            "_view_module": "@jupyter-widgets/controls",
            "_view_module_version": "1.5.0",
            "_view_name": "ProgressView",
            "bar_style": "",
            "description": "",
            "description_tooltip": null,
            "layout": "IPY_MODEL_024d58885dd54d4db0b8d88291622e96",
            "max": 1,
            "min": 0,
            "orientation": "horizontal",
            "style": "IPY_MODEL_144be03795fe4389ac9976d38c63b9fb",
            "value": 1
          }
        },
        "af7cf01b0a224b61a80ec764eb1006f7": {
          "model_module": "@jupyter-widgets/base",
          "model_name": "LayoutModel",
          "model_module_version": "1.2.0",
          "state": {
            "_model_module": "@jupyter-widgets/base",
            "_model_module_version": "1.2.0",
            "_model_name": "LayoutModel",
            "_view_count": null,
            "_view_module": "@jupyter-widgets/base",
            "_view_module_version": "1.2.0",
            "_view_name": "LayoutView",
            "align_content": null,
            "align_items": null,
            "align_self": null,
            "border": null,
            "bottom": null,
            "display": null,
            "flex": null,
            "flex_flow": null,
            "grid_area": null,
            "grid_auto_columns": null,
            "grid_auto_flow": null,
            "grid_auto_rows": null,
            "grid_column": null,
            "grid_gap": null,
            "grid_row": null,
            "grid_template_areas": null,
            "grid_template_columns": null,
            "grid_template_rows": null,
            "height": null,
            "justify_content": null,
            "justify_items": null,
            "left": null,
            "margin": null,
            "max_height": null,
            "max_width": null,
            "min_height": null,
            "min_width": null,
            "object_fit": null,
            "object_position": null,
            "order": null,
            "overflow": null,
            "overflow_x": null,
            "overflow_y": null,
            "padding": null,
            "right": null,
            "top": null,
            "visibility": null,
            "width": null
          }
        },
        "a0ce757c092a40fd91b089e7c5153c8e": {
          "model_module": "@jupyter-widgets/base",
          "model_name": "LayoutModel",
          "model_module_version": "1.2.0",
          "state": {
            "_model_module": "@jupyter-widgets/base",
            "_model_module_version": "1.2.0",
            "_model_name": "LayoutModel",
            "_view_count": null,
            "_view_module": "@jupyter-widgets/base",
            "_view_module_version": "1.2.0",
            "_view_name": "LayoutView",
            "align_content": null,
            "align_items": null,
            "align_self": null,
            "border": null,
            "bottom": null,
            "display": null,
            "flex": null,
            "flex_flow": null,
            "grid_area": null,
            "grid_auto_columns": null,
            "grid_auto_flow": null,
            "grid_auto_rows": null,
            "grid_column": null,
            "grid_gap": null,
            "grid_row": null,
            "grid_template_areas": null,
            "grid_template_columns": null,
            "grid_template_rows": null,
            "height": null,
            "justify_content": null,
            "justify_items": null,
            "left": null,
            "margin": null,
            "max_height": null,
            "max_width": null,
            "min_height": null,
            "min_width": null,
            "object_fit": null,
            "object_position": null,
            "order": null,
            "overflow": null,
            "overflow_x": null,
            "overflow_y": null,
            "padding": null,
            "right": null,
            "top": null,
            "visibility": null,
            "width": null
          }
        },
        "400427938f664165aa01d3e78516adb8": {
          "model_module": "@jupyter-widgets/controls",
          "model_name": "DescriptionStyleModel",
          "model_module_version": "1.5.0",
          "state": {
            "_model_module": "@jupyter-widgets/controls",
            "_model_module_version": "1.5.0",
            "_model_name": "DescriptionStyleModel",
            "_view_count": null,
            "_view_module": "@jupyter-widgets/base",
            "_view_module_version": "1.2.0",
            "_view_name": "StyleView",
            "description_width": ""
          }
        },
        "024d58885dd54d4db0b8d88291622e96": {
          "model_module": "@jupyter-widgets/base",
          "model_name": "LayoutModel",
          "model_module_version": "1.2.0",
          "state": {
            "_model_module": "@jupyter-widgets/base",
            "_model_module_version": "1.2.0",
            "_model_name": "LayoutModel",
            "_view_count": null,
            "_view_module": "@jupyter-widgets/base",
            "_view_module_version": "1.2.0",
            "_view_name": "LayoutView",
            "align_content": null,
            "align_items": null,
            "align_self": null,
            "border": null,
            "bottom": null,
            "display": null,
            "flex": null,
            "flex_flow": null,
            "grid_area": null,
            "grid_auto_columns": null,
            "grid_auto_flow": null,
            "grid_auto_rows": null,
            "grid_column": null,
            "grid_gap": null,
            "grid_row": null,
            "grid_template_areas": null,
            "grid_template_columns": null,
            "grid_template_rows": null,
            "height": null,
            "justify_content": null,
            "justify_items": null,
            "left": null,
            "margin": null,
            "max_height": null,
            "max_width": null,
            "min_height": null,
            "min_width": null,
            "object_fit": null,
            "object_position": null,
            "order": null,
            "overflow": null,
            "overflow_x": null,
            "overflow_y": null,
            "padding": null,
            "right": null,
            "top": null,
            "visibility": null,
            "width": null
          }
        },
        "144be03795fe4389ac9976d38c63b9fb": {
          "model_module": "@jupyter-widgets/controls",
          "model_name": "ProgressStyleModel",
          "model_module_version": "1.5.0",
          "state": {
            "_model_module": "@jupyter-widgets/controls",
            "_model_module_version": "1.5.0",
            "_model_name": "ProgressStyleModel",
            "_view_count": null,
            "_view_module": "@jupyter-widgets/base",
            "_view_module_version": "1.2.0",
            "_view_name": "StyleView",
            "bar_color": null,
            "description_width": ""
          }
        }
      }
    }
  },
  "cells": [
    {
      "cell_type": "markdown",
      "metadata": {
        "id": "view-in-github",
        "colab_type": "text"
      },
      "source": [
        "<a href=\"https://colab.research.google.com/github/Ebadi-Fereshteh/Deep-Learning/blob/main/classification_Artists.ipynb\" target=\"_parent\"><img src=\"https://colab.research.google.com/assets/colab-badge.svg\" alt=\"Open In Colab\"/></a>"
      ]
    },
    {
      "cell_type": "markdown",
      "source": [
        "## **Classification of actors' faces**"
      ],
      "metadata": {
        "id": "kkqWsybWHC_r"
      }
    },
    {
      "cell_type": "code",
      "execution_count": null,
      "metadata": {
        "id": "bPzWl0Xy44DM"
      },
      "outputs": [],
      "source": [
        "!pip install wandb\n",
        "!pip install deepface"
      ]
    },
    {
      "cell_type": "code",
      "source": [
        "import os \n",
        "from deepface import DeepFace\n",
        "import pandas as pd\n",
        "import matplotlib.pyplot as plt\n",
        "import numpy as np\n",
        "import tensorflow as tf\n",
        "from tensorflow.keras.layers import Dense\n",
        "import wandb\n",
        "from wandb.keras import WandbCallback\n",
        "from sklearn.model_selection import train_test_split \n"
      ],
      "metadata": {
        "id": "j2O0yT6GDRJB",
        "colab": {
          "base_uri": "https://localhost:8080/"
        },
        "outputId": "7fd729a8-57e6-4a80-baf1-cdfd60d7cf9b"
      },
      "execution_count": null,
      "outputs": [
        {
          "output_type": "stream",
          "name": "stdout",
          "text": [
            "Directory  /root /.deepface created\n",
            "Directory  /root /.deepface/weights created\n"
          ]
        }
      ]
    },
    {
      "cell_type": "code",
      "source": [
        "from google.colab import drive\n",
        "drive.mount('/content/drive')"
      ],
      "metadata": {
        "colab": {
          "base_uri": "https://localhost:8080/"
        },
        "id": "IdwuOLnvzj_s",
        "outputId": "5ffd87aa-5893-4817-e3fe-8128b4f13a3f"
      },
      "execution_count": null,
      "outputs": [
        {
          "output_type": "stream",
          "name": "stdout",
          "text": [
            "Mounted at /content/drive\n"
          ]
        }
      ]
    },
    {
      "cell_type": "code",
      "source": [
        "X_data = []\n",
        "Y_data = []\n",
        "models = [\"VGG-Face\", \"Facenet\", \"Facenet512\", \"OpenFace\", \"DeepFace\", \"DeepID\", \"ArcFace\", \"Dlib\"]\n",
        "\n",
        "for index, dirname in enumerate(os.listdir('/content/drive/MyDrive/classification_ArtistsFace/data/')):\n",
        "    for file in os.listdir(f'/content/drive/MyDrive/classification_ArtistsFace/data/{dirname}'):\n",
        "        try:\n",
        "            embedding = DeepFace.represent(img_path = f\"/content/drive/MyDrive/classification_ArtistsFace/data/{dirname}/{file}\", model_name = models[1])    \n",
        "            X_data.append(embedding)\n",
        "            Y_data.append(index)\n",
        "        except:\n",
        "            print(f\"/content/drive/MyDrive/classification_ArtistsFace/data/{dirname}/{file}\")\n",
        "\n",
        "df = pd.DataFrame(X_data)\n",
        "df['label'] = Y_data\n",
        "df.to_csv('/content/drive/MyDrive/classification_ArtistsFace/csv/Facenet.csv', index=False)"
      ],
      "metadata": {
        "id": "mnUQ_l6AEQFK",
        "colab": {
          "base_uri": "https://localhost:8080/"
        },
        "outputId": "d046601a-302d-434d-aa0f-283fd422842c"
      },
      "execution_count": null,
      "outputs": [
        {
          "output_type": "stream",
          "name": "stdout",
          "text": [
            "/content/drive/MyDrive/Assignment_42/data/2/.ipynb_checkpoints\n",
            "/content/drive/MyDrive/Assignment_42/data/3/58.png\n",
            "/content/drive/MyDrive/Assignment_42/data/3/40.png\n",
            "/content/drive/MyDrive/Assignment_42/data/3/42.png\n",
            "/content/drive/MyDrive/Assignment_42/data/3/63.png\n",
            "/content/drive/MyDrive/Assignment_42/data/1/.ipynb_checkpoints\n"
          ]
        }
      ]
    },
    {
      "cell_type": "markdown",
      "source": [
        "# Read feature vector extracted by DeepFace"
      ],
      "metadata": {
        "id": "l57L53L9HJRG"
      }
    },
    {
      "cell_type": "code",
      "source": [
        "data = pd.read_csv('/content/drive/MyDrive/classification_ArtistsFace/csv/Facenet.csv')\n",
        "data"
      ],
      "metadata": {
        "id": "jXrzXF-LD_Ul",
        "colab": {
          "base_uri": "https://localhost:8080/",
          "height": 488
        },
        "outputId": "bd71aa23-cec5-429b-fb75-db82a4eb4d57"
      },
      "execution_count": null,
      "outputs": [
        {
          "output_type": "execute_result",
          "data": {
            "text/plain": [
              "            0         1         2         3         4         5         6  \\\n",
              "0   -0.526491 -0.385922 -0.222330 -0.330509  0.280648 -0.400412 -0.128479   \n",
              "1   -1.152666  0.207431  1.377821 -1.623977  1.154512  1.035859  0.286524   \n",
              "2   -0.821583 -0.436653  0.386657 -0.239854  0.983603 -0.022371 -0.111550   \n",
              "3   -0.675791 -0.429044  0.088709 -0.612772  0.055851  0.021954 -0.206714   \n",
              "4   -0.648084 -0.413166 -0.128741 -0.681443 -0.133580 -0.129399 -0.259257   \n",
              "..        ...       ...       ...       ...       ...       ...       ...   \n",
              "189 -0.290766 -0.608424  0.582767 -1.373026  1.029420 -1.543222 -1.891294   \n",
              "190 -0.115863 -0.376098 -0.097213 -0.319106  0.284805  0.059735  0.136515   \n",
              "191 -0.482576 -0.378279 -0.112773 -0.627339 -0.181843 -0.016687 -0.137663   \n",
              "192  0.030428 -0.550808  1.487197 -1.590324  0.360942 -0.508908 -2.065688   \n",
              "193 -0.466789 -0.599632  0.041319 -0.437180  0.021515  0.308788 -0.444369   \n",
              "\n",
              "            7         8         9  ...       119       120       121  \\\n",
              "0   -0.242678  0.084716  0.037267  ...  0.879524 -0.254382 -0.942797   \n",
              "1    1.170267  0.125250  0.102506  ...  1.137553  2.053337 -0.227288   \n",
              "2   -0.030646 -0.002769  0.043060  ...  1.050212 -0.505923 -0.807655   \n",
              "3    0.252300 -0.440928  0.074066  ...  0.615465 -0.428167 -0.629693   \n",
              "4    0.272040 -0.094010  0.032566  ...  0.523331 -0.195325 -0.636054   \n",
              "..        ...       ...       ...  ...       ...       ...       ...   \n",
              "189  0.767409 -0.544754  0.972311  ... -0.771390  0.610745  0.411132   \n",
              "190 -0.323056  0.083258  0.205667  ...  0.010392 -0.060887 -0.120878   \n",
              "191 -0.121694 -0.653357 -0.117495  ...  0.406229 -0.379979 -0.491065   \n",
              "192 -0.420588  0.407320 -0.523359  ... -1.847014  0.297855  0.112575   \n",
              "193  0.033971  0.215543  0.029868  ...  0.975749 -0.397918 -0.725881   \n",
              "\n",
              "          122       123       124       125       126       127  label  \n",
              "0    0.234434  0.190483  0.283248 -0.369575  1.008732  0.003342      0  \n",
              "1   -0.246529 -2.268097 -0.335489  0.819731  1.711290  1.288109      0  \n",
              "2    0.113341  0.178198  0.106089 -0.270585  1.389360  0.358146      0  \n",
              "3    0.055368  0.314568  0.594053 -0.485975  1.391207  0.327536      0  \n",
              "4    0.272530  0.378877  0.443245 -0.694087  1.169697  0.130922      0  \n",
              "..        ...       ...       ...       ...       ...       ...    ...  \n",
              "189 -1.742265 -1.450939  1.754076 -1.293931  0.696665 -0.703065      3  \n",
              "190  0.237366  0.021089  0.316574 -0.359474  0.330223  0.179503      3  \n",
              "191  0.713447  0.232614  0.608759 -0.442395  1.002373  0.300338      3  \n",
              "192  0.063322 -2.386676  0.904154 -0.444591  1.777296 -1.044433      3  \n",
              "193  0.517666  0.226388  0.427249 -0.823218  1.061354  0.407489      3  \n",
              "\n",
              "[194 rows x 129 columns]"
            ],
            "text/html": [
              "\n",
              "  <div id=\"df-9365fe75-f8c0-4017-992f-bf3aa692f8be\">\n",
              "    <div class=\"colab-df-container\">\n",
              "      <div>\n",
              "<style scoped>\n",
              "    .dataframe tbody tr th:only-of-type {\n",
              "        vertical-align: middle;\n",
              "    }\n",
              "\n",
              "    .dataframe tbody tr th {\n",
              "        vertical-align: top;\n",
              "    }\n",
              "\n",
              "    .dataframe thead th {\n",
              "        text-align: right;\n",
              "    }\n",
              "</style>\n",
              "<table border=\"1\" class=\"dataframe\">\n",
              "  <thead>\n",
              "    <tr style=\"text-align: right;\">\n",
              "      <th></th>\n",
              "      <th>0</th>\n",
              "      <th>1</th>\n",
              "      <th>2</th>\n",
              "      <th>3</th>\n",
              "      <th>4</th>\n",
              "      <th>5</th>\n",
              "      <th>6</th>\n",
              "      <th>7</th>\n",
              "      <th>8</th>\n",
              "      <th>9</th>\n",
              "      <th>...</th>\n",
              "      <th>119</th>\n",
              "      <th>120</th>\n",
              "      <th>121</th>\n",
              "      <th>122</th>\n",
              "      <th>123</th>\n",
              "      <th>124</th>\n",
              "      <th>125</th>\n",
              "      <th>126</th>\n",
              "      <th>127</th>\n",
              "      <th>label</th>\n",
              "    </tr>\n",
              "  </thead>\n",
              "  <tbody>\n",
              "    <tr>\n",
              "      <th>0</th>\n",
              "      <td>-0.526491</td>\n",
              "      <td>-0.385922</td>\n",
              "      <td>-0.222330</td>\n",
              "      <td>-0.330509</td>\n",
              "      <td>0.280648</td>\n",
              "      <td>-0.400412</td>\n",
              "      <td>-0.128479</td>\n",
              "      <td>-0.242678</td>\n",
              "      <td>0.084716</td>\n",
              "      <td>0.037267</td>\n",
              "      <td>...</td>\n",
              "      <td>0.879524</td>\n",
              "      <td>-0.254382</td>\n",
              "      <td>-0.942797</td>\n",
              "      <td>0.234434</td>\n",
              "      <td>0.190483</td>\n",
              "      <td>0.283248</td>\n",
              "      <td>-0.369575</td>\n",
              "      <td>1.008732</td>\n",
              "      <td>0.003342</td>\n",
              "      <td>0</td>\n",
              "    </tr>\n",
              "    <tr>\n",
              "      <th>1</th>\n",
              "      <td>-1.152666</td>\n",
              "      <td>0.207431</td>\n",
              "      <td>1.377821</td>\n",
              "      <td>-1.623977</td>\n",
              "      <td>1.154512</td>\n",
              "      <td>1.035859</td>\n",
              "      <td>0.286524</td>\n",
              "      <td>1.170267</td>\n",
              "      <td>0.125250</td>\n",
              "      <td>0.102506</td>\n",
              "      <td>...</td>\n",
              "      <td>1.137553</td>\n",
              "      <td>2.053337</td>\n",
              "      <td>-0.227288</td>\n",
              "      <td>-0.246529</td>\n",
              "      <td>-2.268097</td>\n",
              "      <td>-0.335489</td>\n",
              "      <td>0.819731</td>\n",
              "      <td>1.711290</td>\n",
              "      <td>1.288109</td>\n",
              "      <td>0</td>\n",
              "    </tr>\n",
              "    <tr>\n",
              "      <th>2</th>\n",
              "      <td>-0.821583</td>\n",
              "      <td>-0.436653</td>\n",
              "      <td>0.386657</td>\n",
              "      <td>-0.239854</td>\n",
              "      <td>0.983603</td>\n",
              "      <td>-0.022371</td>\n",
              "      <td>-0.111550</td>\n",
              "      <td>-0.030646</td>\n",
              "      <td>-0.002769</td>\n",
              "      <td>0.043060</td>\n",
              "      <td>...</td>\n",
              "      <td>1.050212</td>\n",
              "      <td>-0.505923</td>\n",
              "      <td>-0.807655</td>\n",
              "      <td>0.113341</td>\n",
              "      <td>0.178198</td>\n",
              "      <td>0.106089</td>\n",
              "      <td>-0.270585</td>\n",
              "      <td>1.389360</td>\n",
              "      <td>0.358146</td>\n",
              "      <td>0</td>\n",
              "    </tr>\n",
              "    <tr>\n",
              "      <th>3</th>\n",
              "      <td>-0.675791</td>\n",
              "      <td>-0.429044</td>\n",
              "      <td>0.088709</td>\n",
              "      <td>-0.612772</td>\n",
              "      <td>0.055851</td>\n",
              "      <td>0.021954</td>\n",
              "      <td>-0.206714</td>\n",
              "      <td>0.252300</td>\n",
              "      <td>-0.440928</td>\n",
              "      <td>0.074066</td>\n",
              "      <td>...</td>\n",
              "      <td>0.615465</td>\n",
              "      <td>-0.428167</td>\n",
              "      <td>-0.629693</td>\n",
              "      <td>0.055368</td>\n",
              "      <td>0.314568</td>\n",
              "      <td>0.594053</td>\n",
              "      <td>-0.485975</td>\n",
              "      <td>1.391207</td>\n",
              "      <td>0.327536</td>\n",
              "      <td>0</td>\n",
              "    </tr>\n",
              "    <tr>\n",
              "      <th>4</th>\n",
              "      <td>-0.648084</td>\n",
              "      <td>-0.413166</td>\n",
              "      <td>-0.128741</td>\n",
              "      <td>-0.681443</td>\n",
              "      <td>-0.133580</td>\n",
              "      <td>-0.129399</td>\n",
              "      <td>-0.259257</td>\n",
              "      <td>0.272040</td>\n",
              "      <td>-0.094010</td>\n",
              "      <td>0.032566</td>\n",
              "      <td>...</td>\n",
              "      <td>0.523331</td>\n",
              "      <td>-0.195325</td>\n",
              "      <td>-0.636054</td>\n",
              "      <td>0.272530</td>\n",
              "      <td>0.378877</td>\n",
              "      <td>0.443245</td>\n",
              "      <td>-0.694087</td>\n",
              "      <td>1.169697</td>\n",
              "      <td>0.130922</td>\n",
              "      <td>0</td>\n",
              "    </tr>\n",
              "    <tr>\n",
              "      <th>...</th>\n",
              "      <td>...</td>\n",
              "      <td>...</td>\n",
              "      <td>...</td>\n",
              "      <td>...</td>\n",
              "      <td>...</td>\n",
              "      <td>...</td>\n",
              "      <td>...</td>\n",
              "      <td>...</td>\n",
              "      <td>...</td>\n",
              "      <td>...</td>\n",
              "      <td>...</td>\n",
              "      <td>...</td>\n",
              "      <td>...</td>\n",
              "      <td>...</td>\n",
              "      <td>...</td>\n",
              "      <td>...</td>\n",
              "      <td>...</td>\n",
              "      <td>...</td>\n",
              "      <td>...</td>\n",
              "      <td>...</td>\n",
              "      <td>...</td>\n",
              "    </tr>\n",
              "    <tr>\n",
              "      <th>189</th>\n",
              "      <td>-0.290766</td>\n",
              "      <td>-0.608424</td>\n",
              "      <td>0.582767</td>\n",
              "      <td>-1.373026</td>\n",
              "      <td>1.029420</td>\n",
              "      <td>-1.543222</td>\n",
              "      <td>-1.891294</td>\n",
              "      <td>0.767409</td>\n",
              "      <td>-0.544754</td>\n",
              "      <td>0.972311</td>\n",
              "      <td>...</td>\n",
              "      <td>-0.771390</td>\n",
              "      <td>0.610745</td>\n",
              "      <td>0.411132</td>\n",
              "      <td>-1.742265</td>\n",
              "      <td>-1.450939</td>\n",
              "      <td>1.754076</td>\n",
              "      <td>-1.293931</td>\n",
              "      <td>0.696665</td>\n",
              "      <td>-0.703065</td>\n",
              "      <td>3</td>\n",
              "    </tr>\n",
              "    <tr>\n",
              "      <th>190</th>\n",
              "      <td>-0.115863</td>\n",
              "      <td>-0.376098</td>\n",
              "      <td>-0.097213</td>\n",
              "      <td>-0.319106</td>\n",
              "      <td>0.284805</td>\n",
              "      <td>0.059735</td>\n",
              "      <td>0.136515</td>\n",
              "      <td>-0.323056</td>\n",
              "      <td>0.083258</td>\n",
              "      <td>0.205667</td>\n",
              "      <td>...</td>\n",
              "      <td>0.010392</td>\n",
              "      <td>-0.060887</td>\n",
              "      <td>-0.120878</td>\n",
              "      <td>0.237366</td>\n",
              "      <td>0.021089</td>\n",
              "      <td>0.316574</td>\n",
              "      <td>-0.359474</td>\n",
              "      <td>0.330223</td>\n",
              "      <td>0.179503</td>\n",
              "      <td>3</td>\n",
              "    </tr>\n",
              "    <tr>\n",
              "      <th>191</th>\n",
              "      <td>-0.482576</td>\n",
              "      <td>-0.378279</td>\n",
              "      <td>-0.112773</td>\n",
              "      <td>-0.627339</td>\n",
              "      <td>-0.181843</td>\n",
              "      <td>-0.016687</td>\n",
              "      <td>-0.137663</td>\n",
              "      <td>-0.121694</td>\n",
              "      <td>-0.653357</td>\n",
              "      <td>-0.117495</td>\n",
              "      <td>...</td>\n",
              "      <td>0.406229</td>\n",
              "      <td>-0.379979</td>\n",
              "      <td>-0.491065</td>\n",
              "      <td>0.713447</td>\n",
              "      <td>0.232614</td>\n",
              "      <td>0.608759</td>\n",
              "      <td>-0.442395</td>\n",
              "      <td>1.002373</td>\n",
              "      <td>0.300338</td>\n",
              "      <td>3</td>\n",
              "    </tr>\n",
              "    <tr>\n",
              "      <th>192</th>\n",
              "      <td>0.030428</td>\n",
              "      <td>-0.550808</td>\n",
              "      <td>1.487197</td>\n",
              "      <td>-1.590324</td>\n",
              "      <td>0.360942</td>\n",
              "      <td>-0.508908</td>\n",
              "      <td>-2.065688</td>\n",
              "      <td>-0.420588</td>\n",
              "      <td>0.407320</td>\n",
              "      <td>-0.523359</td>\n",
              "      <td>...</td>\n",
              "      <td>-1.847014</td>\n",
              "      <td>0.297855</td>\n",
              "      <td>0.112575</td>\n",
              "      <td>0.063322</td>\n",
              "      <td>-2.386676</td>\n",
              "      <td>0.904154</td>\n",
              "      <td>-0.444591</td>\n",
              "      <td>1.777296</td>\n",
              "      <td>-1.044433</td>\n",
              "      <td>3</td>\n",
              "    </tr>\n",
              "    <tr>\n",
              "      <th>193</th>\n",
              "      <td>-0.466789</td>\n",
              "      <td>-0.599632</td>\n",
              "      <td>0.041319</td>\n",
              "      <td>-0.437180</td>\n",
              "      <td>0.021515</td>\n",
              "      <td>0.308788</td>\n",
              "      <td>-0.444369</td>\n",
              "      <td>0.033971</td>\n",
              "      <td>0.215543</td>\n",
              "      <td>0.029868</td>\n",
              "      <td>...</td>\n",
              "      <td>0.975749</td>\n",
              "      <td>-0.397918</td>\n",
              "      <td>-0.725881</td>\n",
              "      <td>0.517666</td>\n",
              "      <td>0.226388</td>\n",
              "      <td>0.427249</td>\n",
              "      <td>-0.823218</td>\n",
              "      <td>1.061354</td>\n",
              "      <td>0.407489</td>\n",
              "      <td>3</td>\n",
              "    </tr>\n",
              "  </tbody>\n",
              "</table>\n",
              "<p>194 rows × 129 columns</p>\n",
              "</div>\n",
              "      <button class=\"colab-df-convert\" onclick=\"convertToInteractive('df-9365fe75-f8c0-4017-992f-bf3aa692f8be')\"\n",
              "              title=\"Convert this dataframe to an interactive table.\"\n",
              "              style=\"display:none;\">\n",
              "        \n",
              "  <svg xmlns=\"http://www.w3.org/2000/svg\" height=\"24px\"viewBox=\"0 0 24 24\"\n",
              "       width=\"24px\">\n",
              "    <path d=\"M0 0h24v24H0V0z\" fill=\"none\"/>\n",
              "    <path d=\"M18.56 5.44l.94 2.06.94-2.06 2.06-.94-2.06-.94-.94-2.06-.94 2.06-2.06.94zm-11 1L8.5 8.5l.94-2.06 2.06-.94-2.06-.94L8.5 2.5l-.94 2.06-2.06.94zm10 10l.94 2.06.94-2.06 2.06-.94-2.06-.94-.94-2.06-.94 2.06-2.06.94z\"/><path d=\"M17.41 7.96l-1.37-1.37c-.4-.4-.92-.59-1.43-.59-.52 0-1.04.2-1.43.59L10.3 9.45l-7.72 7.72c-.78.78-.78 2.05 0 2.83L4 21.41c.39.39.9.59 1.41.59.51 0 1.02-.2 1.41-.59l7.78-7.78 2.81-2.81c.8-.78.8-2.07 0-2.86zM5.41 20L4 18.59l7.72-7.72 1.47 1.35L5.41 20z\"/>\n",
              "  </svg>\n",
              "      </button>\n",
              "      \n",
              "  <style>\n",
              "    .colab-df-container {\n",
              "      display:flex;\n",
              "      flex-wrap:wrap;\n",
              "      gap: 12px;\n",
              "    }\n",
              "\n",
              "    .colab-df-convert {\n",
              "      background-color: #E8F0FE;\n",
              "      border: none;\n",
              "      border-radius: 50%;\n",
              "      cursor: pointer;\n",
              "      display: none;\n",
              "      fill: #1967D2;\n",
              "      height: 32px;\n",
              "      padding: 0 0 0 0;\n",
              "      width: 32px;\n",
              "    }\n",
              "\n",
              "    .colab-df-convert:hover {\n",
              "      background-color: #E2EBFA;\n",
              "      box-shadow: 0px 1px 2px rgba(60, 64, 67, 0.3), 0px 1px 3px 1px rgba(60, 64, 67, 0.15);\n",
              "      fill: #174EA6;\n",
              "    }\n",
              "\n",
              "    [theme=dark] .colab-df-convert {\n",
              "      background-color: #3B4455;\n",
              "      fill: #D2E3FC;\n",
              "    }\n",
              "\n",
              "    [theme=dark] .colab-df-convert:hover {\n",
              "      background-color: #434B5C;\n",
              "      box-shadow: 0px 1px 3px 1px rgba(0, 0, 0, 0.15);\n",
              "      filter: drop-shadow(0px 1px 2px rgba(0, 0, 0, 0.3));\n",
              "      fill: #FFFFFF;\n",
              "    }\n",
              "  </style>\n",
              "\n",
              "      <script>\n",
              "        const buttonEl =\n",
              "          document.querySelector('#df-9365fe75-f8c0-4017-992f-bf3aa692f8be button.colab-df-convert');\n",
              "        buttonEl.style.display =\n",
              "          google.colab.kernel.accessAllowed ? 'block' : 'none';\n",
              "\n",
              "        async function convertToInteractive(key) {\n",
              "          const element = document.querySelector('#df-9365fe75-f8c0-4017-992f-bf3aa692f8be');\n",
              "          const dataTable =\n",
              "            await google.colab.kernel.invokeFunction('convertToInteractive',\n",
              "                                                     [key], {});\n",
              "          if (!dataTable) return;\n",
              "\n",
              "          const docLinkHtml = 'Like what you see? Visit the ' +\n",
              "            '<a target=\"_blank\" href=https://colab.research.google.com/notebooks/data_table.ipynb>data table notebook</a>'\n",
              "            + ' to learn more about interactive tables.';\n",
              "          element.innerHTML = '';\n",
              "          dataTable['output_type'] = 'display_data';\n",
              "          await google.colab.output.renderOutput(dataTable, element);\n",
              "          const docLink = document.createElement('div');\n",
              "          docLink.innerHTML = docLinkHtml;\n",
              "          element.appendChild(docLink);\n",
              "        }\n",
              "      </script>\n",
              "    </div>\n",
              "  </div>\n",
              "  "
            ]
          },
          "metadata": {},
          "execution_count": 975
        }
      ]
    },
    {
      "cell_type": "markdown",
      "source": [
        "### Data"
      ],
      "metadata": {
        "id": "bsGPjM0RMZsy"
      }
    },
    {
      "cell_type": "code",
      "source": [
        "Y_data = data[['label']]\n",
        "# Y_data = Y_data.reshape(-1, 1)\n",
        "\n",
        "X_data = data.drop(['label'], axis= 1)\n",
        "# X_data = X_data.to_numpy()\n",
        "# X_data = X_data.reshape(-1, 1)\n",
        "# X_data.shape"
      ],
      "metadata": {
        "id": "_Qr6A8GCK6zd"
      },
      "execution_count": null,
      "outputs": []
    },
    {
      "cell_type": "code",
      "source": [
        "wandb.init(project= 'Classification Actors Face')"
      ],
      "metadata": {
        "id": "nPyZke5FJS9z",
        "colab": {
          "base_uri": "https://localhost:8080/",
          "height": 373,
          "referenced_widgets": [
            "54f647ff5be146bc902f6fa9c8a0d66f",
            "c37c44419f6448b3b5caa3d3002141af",
            "6ecb44d0573642eea24f46acf4acb336",
            "af7cf01b0a224b61a80ec764eb1006f7",
            "a0ce757c092a40fd91b089e7c5153c8e",
            "400427938f664165aa01d3e78516adb8",
            "024d58885dd54d4db0b8d88291622e96",
            "144be03795fe4389ac9976d38c63b9fb"
          ]
        },
        "outputId": "38ab5e67-342c-48c7-b85f-f6fa6d9471dd"
      },
      "execution_count": null,
      "outputs": [
        {
          "output_type": "display_data",
          "data": {
            "text/plain": [
              "<IPython.core.display.HTML object>"
            ],
            "text/html": [
              "Finishing last run (ID:366vnb2o) before initializing another..."
            ]
          },
          "metadata": {}
        },
        {
          "output_type": "stream",
          "name": "stdout",
          "text": [
            "\n"
          ]
        },
        {
          "output_type": "display_data",
          "data": {
            "text/plain": [
              "<IPython.core.display.HTML object>"
            ],
            "text/html": [
              "Waiting for W&B process to finish... <strong style=\"color:green\">(success).</strong>"
            ]
          },
          "metadata": {}
        },
        {
          "output_type": "display_data",
          "data": {
            "text/plain": [
              "VBox(children=(Label(value='0.001 MB of 0.001 MB uploaded (0.000 MB deduped)\\r'), FloatProgress(value=1.0, max…"
            ],
            "application/vnd.jupyter.widget-view+json": {
              "version_major": 2,
              "version_minor": 0,
              "model_id": "54f647ff5be146bc902f6fa9c8a0d66f"
            }
          },
          "metadata": {}
        },
        {
          "output_type": "display_data",
          "data": {
            "text/plain": [
              "<IPython.core.display.HTML object>"
            ],
            "text/html": [
              "<style>\n",
              "    table.wandb td:nth-child(1) { padding: 0 10px; text-align: right }\n",
              "    .wandb-row { display: flex; flex-direction: row; flex-wrap: wrap; width: 100% }\n",
              "    .wandb-col { display: flex; flex-direction: column; flex-basis: 100%; flex: 1; padding: 10px; }\n",
              "    </style>\n",
              "<div class=\"wandb-row\"><div class=\"wandb-col\"><h3>Run history:</h3><br/><table class=\"wandb\"><tr><td>accuracy</td><td>▁▄▄▅▆▆▇▇▇▇█▇▇▇▇▆████████████████████████</td></tr><tr><td>epoch</td><td>▁▁▁▁▂▂▂▂▂▃▃▃▃▃▃▄▄▄▄▄▅▅▅▅▅▅▆▆▆▆▆▆▇▇▇▇▇███</td></tr><tr><td>loss</td><td>█▅▅▅▄▃▃▂▂▂▁▂▂▂▂▃▂▁▁▁▁▁▁▁▁▁▁▁▁▁▁▁▁▁▁▁▁▁▁▁</td></tr></table><br/></div><div class=\"wandb-col\"><h3>Run summary:</h3><br/><table class=\"wandb\"><tr><td>accuracy</td><td>1.0</td></tr><tr><td>epoch</td><td>49</td></tr><tr><td>loss</td><td>0.00021</td></tr></table><br/></div></div>"
            ]
          },
          "metadata": {}
        },
        {
          "output_type": "display_data",
          "data": {
            "text/plain": [
              "<IPython.core.display.HTML object>"
            ],
            "text/html": [
              "Synced <strong style=\"color:#cdcd00\">hopeful-forest-20</strong>: <a href=\"https://wandb.ai/fereshteh_ebadi/Classification%20Actors%20Face/runs/366vnb2o\" target=\"_blank\">https://wandb.ai/fereshteh_ebadi/Classification%20Actors%20Face/runs/366vnb2o</a><br/>Synced 5 W&B file(s), 1 media file(s), 0 artifact file(s) and 0 other file(s)"
            ]
          },
          "metadata": {}
        },
        {
          "output_type": "display_data",
          "data": {
            "text/plain": [
              "<IPython.core.display.HTML object>"
            ],
            "text/html": [
              "Find logs at: <code>./wandb/run-20220316_124124-366vnb2o/logs</code>"
            ]
          },
          "metadata": {}
        },
        {
          "output_type": "display_data",
          "data": {
            "text/plain": [
              "<IPython.core.display.HTML object>"
            ],
            "text/html": [
              "Successfully finished last run (ID:366vnb2o). Initializing new run:<br/>"
            ]
          },
          "metadata": {}
        },
        {
          "output_type": "display_data",
          "data": {
            "text/plain": [
              "<IPython.core.display.HTML object>"
            ],
            "text/html": [
              "Tracking run with wandb version 0.12.11"
            ]
          },
          "metadata": {}
        },
        {
          "output_type": "display_data",
          "data": {
            "text/plain": [
              "<IPython.core.display.HTML object>"
            ],
            "text/html": [
              "Run data is saved locally in <code>/content/wandb/run-20220316_124302-v4pz0gar</code>"
            ]
          },
          "metadata": {}
        },
        {
          "output_type": "display_data",
          "data": {
            "text/plain": [
              "<IPython.core.display.HTML object>"
            ],
            "text/html": [
              "Syncing run <strong><a href=\"https://wandb.ai/fereshteh_ebadi/Classification%20Actors%20Face/runs/v4pz0gar\" target=\"_blank\">trim-wood-21</a></strong> to <a href=\"https://wandb.ai/fereshteh_ebadi/Classification%20Actors%20Face\" target=\"_blank\">Weights & Biases</a> (<a href=\"https://wandb.me/run\" target=\"_blank\">docs</a>)<br/>"
            ]
          },
          "metadata": {}
        },
        {
          "output_type": "execute_result",
          "data": {
            "text/html": [
              "<button onClick=\"this.nextSibling.style.display='block';this.style.display='none';\">Display W&B run</button><iframe src=\"https://wandb.ai/fereshteh_ebadi/Classification%20Actors%20Face/runs/v4pz0gar?jupyter=true\" style=\"border:none;width:100%;height:420px;display:none;\"></iframe>"
            ],
            "text/plain": [
              "<wandb.sdk.wandb_run.Run at 0x7faf01138850>"
            ]
          },
          "metadata": {},
          "execution_count": 977
        }
      ]
    },
    {
      "cell_type": "code",
      "source": [
        "config = wandb.config\n",
        "config.learning_rate = 0.01"
      ],
      "metadata": {
        "id": "_vWeRfq6Vxvb"
      },
      "execution_count": null,
      "outputs": []
    },
    {
      "cell_type": "code",
      "source": [
        "X_train, X_test, Y_train, Y_test = train_test_split(X_data, Y_data, shuffle=True)"
      ],
      "metadata": {
        "id": "S0EjfSKJUZhX"
      },
      "execution_count": null,
      "outputs": []
    },
    {
      "cell_type": "code",
      "source": [
        "from sklearn.neighbors import KNeighborsClassifier\n",
        "Y_train2 = Y_train.to_numpy()\n",
        "Y_train2 = Y_train2.reshape(-1,1)\n",
        "neigh = KNeighborsClassifier(n_neighbors= 5)\n",
        "neigh.fit(X_train, Y_train2)\n",
        "cv_predict = neigh.predict(X_test)\n",
        "\n",
        "from sklearn.metrics import accuracy_score\n",
        "acc = accuracy_score(Y_test, cv_predict)\n",
        "print(acc)"
      ],
      "metadata": {
        "id": "AvNAUIou7Eaa",
        "colab": {
          "base_uri": "https://localhost:8080/"
        },
        "outputId": "85e70c49-241d-42ab-b30e-82e69b01da17"
      },
      "execution_count": null,
      "outputs": [
        {
          "output_type": "stream",
          "name": "stdout",
          "text": [
            "0.7142857142857143\n"
          ]
        }
      ]
    },
    {
      "cell_type": "markdown",
      "source": [
        "### Config Model"
      ],
      "metadata": {
        "id": "pZ6zFkBRWg4V"
      }
    },
    {
      "cell_type": "code",
      "source": [
        "model = tf.keras.models.Sequential([                                    \n",
        "        Dense(128,input_dim= 128, activation= \"relu\"),\n",
        "        Dense(64, activation= \"relu\"),\n",
        "        Dense(32, activation= \"relu\"),        \n",
        "        # Dense(32, activation= \"relu\"),\n",
        "        # Dense(128, activation= \"relu\"),\n",
        "        # Dense(128, activation= \"relu\"),\n",
        "        # # Dense(256, activation= \"relu\"),\n",
        "        # # Dense(512, activation= \"relu\"),\n",
        "        # # Dense(32, activation= \"relu\"),\n",
        "        Dense(4, activation= \"softmax\")\n",
        "])"
      ],
      "metadata": {
        "id": "QBvTeZYEWdXK"
      },
      "execution_count": null,
      "outputs": []
    },
    {
      "cell_type": "code",
      "source": [
        "model.compile(tf.keras.optimizers.Adam(learning_rate= config.learning_rate), \n",
        "              loss = tf.keras.losses.sparse_categorical_crossentropy,\n",
        "              metrics=['accuracy']\n",
        ")"
      ],
      "metadata": {
        "id": "QHl57IwBZVNT"
      },
      "execution_count": null,
      "outputs": []
    },
    {
      "cell_type": "code",
      "source": [
        "model.summary()"
      ],
      "metadata": {
        "id": "VP8ArWKfZof6",
        "colab": {
          "base_uri": "https://localhost:8080/"
        },
        "outputId": "00a5add4-e0e7-4dbf-fa0c-717e14df6aa0"
      },
      "execution_count": null,
      "outputs": [
        {
          "output_type": "stream",
          "name": "stdout",
          "text": [
            "Model: \"sequential_106\"\n",
            "_________________________________________________________________\n",
            " Layer (type)                Output Shape              Param #   \n",
            "=================================================================\n",
            " dense_466 (Dense)           (None, 128)               16512     \n",
            "                                                                 \n",
            " dense_467 (Dense)           (None, 64)                8256      \n",
            "                                                                 \n",
            " dense_468 (Dense)           (None, 32)                2080      \n",
            "                                                                 \n",
            " dense_469 (Dense)           (None, 4)                 132       \n",
            "                                                                 \n",
            "=================================================================\n",
            "Total params: 26,980\n",
            "Trainable params: 26,980\n",
            "Non-trainable params: 0\n",
            "_________________________________________________________________\n"
          ]
        }
      ]
    },
    {
      "cell_type": "markdown",
      "source": [
        "## Train Model"
      ],
      "metadata": {
        "id": "eaQEv9cQZ0Uc"
      }
    },
    {
      "cell_type": "code",
      "source": [
        "model.fit(X_train, Y_train, epochs= 50, callbacks=[WandbCallback()])\n"
      ],
      "metadata": {
        "id": "24h_Rm9yZtvp",
        "colab": {
          "base_uri": "https://localhost:8080/"
        },
        "outputId": "0d7f1bc7-e4ee-40f7-e674-6e7a3af20bfe"
      },
      "execution_count": null,
      "outputs": [
        {
          "output_type": "stream",
          "name": "stdout",
          "text": [
            "Epoch 1/50\n",
            "5/5 [==============================] - 0s 6ms/step - loss: 1.1048 - accuracy: 0.4966 - _timestamp: 1647434590.0000 - _runtime: 4.0000\n",
            "Epoch 2/50\n",
            "5/5 [==============================] - 0s 5ms/step - loss: 0.7020 - accuracy: 0.6897 - _timestamp: 1647434590.0000 - _runtime: 4.0000\n",
            "Epoch 3/50\n",
            "5/5 [==============================] - 0s 3ms/step - loss: 0.5270 - accuracy: 0.7310 - _timestamp: 1647434591.0000 - _runtime: 5.0000\n",
            "Epoch 4/50\n",
            "5/5 [==============================] - 0s 3ms/step - loss: 0.5122 - accuracy: 0.7793 - _timestamp: 1647434591.0000 - _runtime: 5.0000\n",
            "Epoch 5/50\n",
            "5/5 [==============================] - 0s 5ms/step - loss: 0.4009 - accuracy: 0.8414 - _timestamp: 1647434591.0000 - _runtime: 5.0000\n",
            "Epoch 6/50\n",
            "5/5 [==============================] - 0s 4ms/step - loss: 0.3590 - accuracy: 0.8483 - _timestamp: 1647434591.0000 - _runtime: 5.0000\n",
            "Epoch 7/50\n",
            "5/5 [==============================] - 0s 3ms/step - loss: 0.2729 - accuracy: 0.8966 - _timestamp: 1647434591.0000 - _runtime: 5.0000\n",
            "Epoch 8/50\n",
            "5/5 [==============================] - 0s 6ms/step - loss: 0.2182 - accuracy: 0.8966 - _timestamp: 1647434591.0000 - _runtime: 5.0000\n",
            "Epoch 9/50\n",
            "5/5 [==============================] - 0s 4ms/step - loss: 0.1703 - accuracy: 0.9448 - _timestamp: 1647434591.0000 - _runtime: 5.0000\n",
            "Epoch 10/50\n",
            "5/5 [==============================] - 0s 4ms/step - loss: 0.1717 - accuracy: 0.9241 - _timestamp: 1647434591.0000 - _runtime: 5.0000\n",
            "Epoch 11/50\n",
            "5/5 [==============================] - 0s 5ms/step - loss: 0.2093 - accuracy: 0.9310 - _timestamp: 1647434591.0000 - _runtime: 5.0000\n",
            "Epoch 12/50\n",
            "5/5 [==============================] - 0s 5ms/step - loss: 0.2286 - accuracy: 0.9310 - _timestamp: 1647434591.0000 - _runtime: 5.0000\n",
            "Epoch 13/50\n",
            "5/5 [==============================] - 0s 4ms/step - loss: 0.2455 - accuracy: 0.8966 - _timestamp: 1647434591.0000 - _runtime: 5.0000\n",
            "Epoch 14/50\n",
            "5/5 [==============================] - 0s 4ms/step - loss: 0.1623 - accuracy: 0.9379 - _timestamp: 1647434591.0000 - _runtime: 5.0000\n",
            "Epoch 15/50\n",
            "5/5 [==============================] - 0s 4ms/step - loss: 0.1184 - accuracy: 0.9655 - _timestamp: 1647434591.0000 - _runtime: 5.0000\n",
            "Epoch 16/50\n",
            "5/5 [==============================] - 0s 4ms/step - loss: 0.1140 - accuracy: 0.9655 - _timestamp: 1647434591.0000 - _runtime: 5.0000\n",
            "Epoch 17/50\n",
            "5/5 [==============================] - 0s 3ms/step - loss: 0.0757 - accuracy: 0.9655 - _timestamp: 1647434591.0000 - _runtime: 5.0000\n",
            "Epoch 18/50\n",
            "5/5 [==============================] - 0s 4ms/step - loss: 0.0733 - accuracy: 0.9724 - _timestamp: 1647434591.0000 - _runtime: 5.0000\n",
            "Epoch 19/50\n",
            "5/5 [==============================] - 0s 7ms/step - loss: 0.0499 - accuracy: 0.9931 - _timestamp: 1647434591.0000 - _runtime: 5.0000\n",
            "Epoch 20/50\n",
            "5/5 [==============================] - 0s 3ms/step - loss: 0.0354 - accuracy: 0.9793 - _timestamp: 1647434591.0000 - _runtime: 5.0000\n",
            "Epoch 21/50\n",
            "5/5 [==============================] - 0s 4ms/step - loss: 0.0375 - accuracy: 0.9931 - _timestamp: 1647434591.0000 - _runtime: 5.0000\n",
            "Epoch 22/50\n",
            "5/5 [==============================] - 0s 3ms/step - loss: 0.0305 - accuracy: 0.9931 - _timestamp: 1647434591.0000 - _runtime: 5.0000\n",
            "Epoch 23/50\n",
            "5/5 [==============================] - 0s 4ms/step - loss: 0.0154 - accuracy: 0.9931 - _timestamp: 1647434591.0000 - _runtime: 5.0000\n",
            "Epoch 24/50\n",
            "5/5 [==============================] - 0s 4ms/step - loss: 0.0147 - accuracy: 1.0000 - _timestamp: 1647434591.0000 - _runtime: 5.0000\n",
            "Epoch 25/50\n",
            "5/5 [==============================] - 0s 4ms/step - loss: 0.0106 - accuracy: 1.0000 - _timestamp: 1647434591.0000 - _runtime: 5.0000\n",
            "Epoch 26/50\n",
            "5/5 [==============================] - 0s 4ms/step - loss: 0.0190 - accuracy: 0.9931 - _timestamp: 1647434591.0000 - _runtime: 5.0000\n",
            "Epoch 27/50\n",
            "5/5 [==============================] - 0s 3ms/step - loss: 0.0105 - accuracy: 0.9931 - _timestamp: 1647434591.0000 - _runtime: 5.0000\n",
            "Epoch 28/50\n",
            "5/5 [==============================] - 0s 4ms/step - loss: 0.0133 - accuracy: 0.9931 - _timestamp: 1647434591.0000 - _runtime: 5.0000\n",
            "Epoch 29/50\n",
            "5/5 [==============================] - 0s 5ms/step - loss: 0.0182 - accuracy: 0.9931 - _timestamp: 1647434591.0000 - _runtime: 5.0000\n",
            "Epoch 30/50\n",
            "5/5 [==============================] - 0s 5ms/step - loss: 0.0031 - accuracy: 1.0000 - _timestamp: 1647434591.0000 - _runtime: 5.0000\n",
            "Epoch 31/50\n",
            "5/5 [==============================] - 0s 4ms/step - loss: 0.0033 - accuracy: 1.0000 - _timestamp: 1647434591.0000 - _runtime: 5.0000\n",
            "Epoch 32/50\n",
            "5/5 [==============================] - 0s 4ms/step - loss: 0.0012 - accuracy: 1.0000 - _timestamp: 1647434591.0000 - _runtime: 5.0000\n",
            "Epoch 33/50\n",
            "5/5 [==============================] - 0s 4ms/step - loss: 9.7951e-04 - accuracy: 1.0000 - _timestamp: 1647434591.0000 - _runtime: 5.0000\n",
            "Epoch 34/50\n",
            "5/5 [==============================] - 0s 4ms/step - loss: 9.8475e-04 - accuracy: 1.0000 - _timestamp: 1647434591.0000 - _runtime: 5.0000\n",
            "Epoch 35/50\n",
            "5/5 [==============================] - 0s 4ms/step - loss: 8.9831e-04 - accuracy: 1.0000 - _timestamp: 1647434591.0000 - _runtime: 5.0000\n",
            "Epoch 36/50\n",
            "5/5 [==============================] - 0s 4ms/step - loss: 6.3895e-04 - accuracy: 1.0000 - _timestamp: 1647434592.0000 - _runtime: 6.0000\n",
            "Epoch 37/50\n",
            "5/5 [==============================] - 0s 4ms/step - loss: 4.9936e-04 - accuracy: 1.0000 - _timestamp: 1647434592.0000 - _runtime: 6.0000\n",
            "Epoch 38/50\n",
            "5/5 [==============================] - 0s 4ms/step - loss: 4.3774e-04 - accuracy: 1.0000 - _timestamp: 1647434592.0000 - _runtime: 6.0000\n",
            "Epoch 39/50\n",
            "5/5 [==============================] - 0s 4ms/step - loss: 3.9548e-04 - accuracy: 1.0000 - _timestamp: 1647434592.0000 - _runtime: 6.0000\n",
            "Epoch 40/50\n",
            "5/5 [==============================] - 0s 4ms/step - loss: 3.6521e-04 - accuracy: 1.0000 - _timestamp: 1647434592.0000 - _runtime: 6.0000\n",
            "Epoch 41/50\n",
            "5/5 [==============================] - 0s 8ms/step - loss: 3.3551e-04 - accuracy: 1.0000 - _timestamp: 1647434592.0000 - _runtime: 6.0000\n",
            "Epoch 42/50\n",
            "5/5 [==============================] - 0s 8ms/step - loss: 3.1037e-04 - accuracy: 1.0000 - _timestamp: 1647434592.0000 - _runtime: 6.0000\n",
            "Epoch 43/50\n",
            "5/5 [==============================] - 0s 4ms/step - loss: 2.9212e-04 - accuracy: 1.0000 - _timestamp: 1647434592.0000 - _runtime: 6.0000\n",
            "Epoch 44/50\n",
            "5/5 [==============================] - 0s 5ms/step - loss: 2.7188e-04 - accuracy: 1.0000 - _timestamp: 1647434592.0000 - _runtime: 6.0000\n",
            "Epoch 45/50\n",
            "5/5 [==============================] - 0s 6ms/step - loss: 2.5699e-04 - accuracy: 1.0000 - _timestamp: 1647434592.0000 - _runtime: 6.0000\n",
            "Epoch 46/50\n",
            "5/5 [==============================] - 0s 3ms/step - loss: 2.4534e-04 - accuracy: 1.0000 - _timestamp: 1647434592.0000 - _runtime: 6.0000\n",
            "Epoch 47/50\n",
            "5/5 [==============================] - 0s 4ms/step - loss: 2.3174e-04 - accuracy: 1.0000 - _timestamp: 1647434592.0000 - _runtime: 6.0000\n",
            "Epoch 48/50\n",
            "5/5 [==============================] - 0s 4ms/step - loss: 2.2146e-04 - accuracy: 1.0000 - _timestamp: 1647434592.0000 - _runtime: 6.0000\n",
            "Epoch 49/50\n",
            "5/5 [==============================] - 0s 4ms/step - loss: 2.1217e-04 - accuracy: 1.0000 - _timestamp: 1647434592.0000 - _runtime: 6.0000\n",
            "Epoch 50/50\n",
            "5/5 [==============================] - 0s 4ms/step - loss: 2.0327e-04 - accuracy: 1.0000 - _timestamp: 1647434592.0000 - _runtime: 6.0000\n"
          ]
        },
        {
          "output_type": "execute_result",
          "data": {
            "text/plain": [
              "<keras.callbacks.History at 0x7faf694ad710>"
            ]
          },
          "metadata": {},
          "execution_count": 984
        }
      ]
    },
    {
      "cell_type": "code",
      "source": [
        "model.evaluate(X_test, Y_test)"
      ],
      "metadata": {
        "id": "DyWxmlnBd3XA",
        "colab": {
          "base_uri": "https://localhost:8080/"
        },
        "outputId": "e605abe9-ae09-4116-df98-ce4c89ab17fc"
      },
      "execution_count": null,
      "outputs": [
        {
          "output_type": "stream",
          "name": "stdout",
          "text": [
            "2/2 [==============================] - 0s 7ms/step - loss: 0.7174 - accuracy: 0.8776\n"
          ]
        },
        {
          "output_type": "execute_result",
          "data": {
            "text/plain": [
              "[0.7174071669578552, 0.8775510191917419]"
            ]
          },
          "metadata": {},
          "execution_count": 985
        }
      ]
    },
    {
      "cell_type": "code",
      "source": [
        "model.save('/content/drive/MyDrive/classification_ArtistsFace/models/DeepFace.h5')"
      ],
      "metadata": {
        "id": "C11Isor0o6lz"
      },
      "execution_count": null,
      "outputs": []
    }
  ]
}